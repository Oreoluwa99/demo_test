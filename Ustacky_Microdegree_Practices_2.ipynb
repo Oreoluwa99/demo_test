{
  "nbformat": 4,
  "nbformat_minor": 0,
  "metadata": {
    "colab": {
      "name": "Untitled1.ipynb",
      "provenance": [],
      "authorship_tag": "ABX9TyPrTMdGCUv6Hi4JhMUh+Oos",
      "include_colab_link": true
    },
    "kernelspec": {
      "name": "python3",
      "display_name": "Python 3"
    },
    "language_info": {
      "name": "python"
    }
  },
  "cells": [
    {
      "cell_type": "markdown",
      "metadata": {
        "id": "view-in-github",
        "colab_type": "text"
      },
      "source": [
        "<a href=\"https://colab.research.google.com/github/Oreoluwa99/demo_test/blob/main/Ustacky_Microdegree_Practices_2.ipynb\" target=\"_parent\"><img src=\"https://colab.research.google.com/assets/colab-badge.svg\" alt=\"Open In Colab\"/></a>"
      ]
    },
    {
      "cell_type": "code",
      "metadata": {
        "id": "cUfGvl_Rv5vK"
      },
      "source": [
        "import numpy as np"
      ],
      "execution_count": 1,
      "outputs": []
    },
    {
      "cell_type": "code",
      "metadata": {
        "id": "JbfeseKhwKuQ"
      },
      "source": [
        "array = np.random.randint(0,100, 16)"
      ],
      "execution_count": 8,
      "outputs": []
    },
    {
      "cell_type": "code",
      "metadata": {
        "colab": {
          "base_uri": "https://localhost:8080/"
        },
        "id": "RVg4Q1-lwX_A",
        "outputId": "e4e473f4-b481-4f29-e50c-1ce11dbecda8"
      },
      "source": [
        "array"
      ],
      "execution_count": 9,
      "outputs": [
        {
          "output_type": "execute_result",
          "data": {
            "text/plain": [
              "array([84, 58, 11, 10, 41, 44, 35, 21, 31, 39, 17, 95, 79,  5, 58, 78])"
            ]
          },
          "metadata": {
            "tags": []
          },
          "execution_count": 9
        }
      ]
    },
    {
      "cell_type": "code",
      "metadata": {
        "colab": {
          "base_uri": "https://localhost:8080/"
        },
        "id": "4mO0HUarxf45",
        "outputId": "f23044ba-e8c3-479e-f85f-d5517902773e"
      },
      "source": [
        "array.shape"
      ],
      "execution_count": 13,
      "outputs": [
        {
          "output_type": "execute_result",
          "data": {
            "text/plain": [
              "(16,)"
            ]
          },
          "metadata": {
            "tags": []
          },
          "execution_count": 13
        }
      ]
    },
    {
      "cell_type": "code",
      "metadata": {
        "colab": {
          "base_uri": "https://localhost:8080/"
        },
        "id": "mrn_NnXex3uF",
        "outputId": "0285b7f8-8a17-418a-dfe0-82bb19675e9d"
      },
      "source": [
        "array.ndim"
      ],
      "execution_count": 15,
      "outputs": [
        {
          "output_type": "execute_result",
          "data": {
            "text/plain": [
              "1"
            ]
          },
          "metadata": {
            "tags": []
          },
          "execution_count": 15
        }
      ]
    },
    {
      "cell_type": "code",
      "metadata": {
        "colab": {
          "base_uri": "https://localhost:8080/"
        },
        "id": "HoA85F_PyHJ2",
        "outputId": "eafa1060-5aaf-4844-abd8-9d3b3d17ae91"
      },
      "source": [
        "array.reshape(4,4)\n",
        "#This reshapes the array and returns rows of 4 columns and 4 rows"
      ],
      "execution_count": 17,
      "outputs": [
        {
          "output_type": "execute_result",
          "data": {
            "text/plain": [
              "array([[84, 58, 11, 10],\n",
              "       [41, 44, 35, 21],\n",
              "       [31, 39, 17, 95],\n",
              "       [79,  5, 58, 78]])"
            ]
          },
          "metadata": {
            "tags": []
          },
          "execution_count": 17
        }
      ]
    },
    {
      "cell_type": "code",
      "metadata": {
        "id": "-0qqkINVycI_"
      },
      "source": [
        "array2d = array.reshape(4,4)\n",
        "#This reshapes the new array"
      ],
      "execution_count": 25,
      "outputs": []
    },
    {
      "cell_type": "code",
      "metadata": {
        "colab": {
          "base_uri": "https://localhost:8080/"
        },
        "id": "RM6oifCiyh5e",
        "outputId": "ede3e4dc-4e7e-4414-cfd6-5ca7339c2c05"
      },
      "source": [
        "array2d.shape"
      ],
      "execution_count": 26,
      "outputs": [
        {
          "output_type": "execute_result",
          "data": {
            "text/plain": [
              "(4, 4)"
            ]
          },
          "metadata": {
            "tags": []
          },
          "execution_count": 26
        }
      ]
    },
    {
      "cell_type": "code",
      "metadata": {
        "id": "MsShfoZGwaot"
      },
      "source": [
        "array2 = np.random.rand(100,100)"
      ],
      "execution_count": 12,
      "outputs": []
    },
    {
      "cell_type": "code",
      "metadata": {
        "id": "p7w3y93jxemz"
      },
      "source": [
        ""
      ],
      "execution_count": null,
      "outputs": []
    },
    {
      "cell_type": "code",
      "metadata": {
        "colab": {
          "base_uri": "https://localhost:8080/"
        },
        "id": "ifbVVApRwea5",
        "outputId": "c323cb14-442b-4181-8d0d-52c3200aee82"
      },
      "source": [
        "array2"
      ],
      "execution_count": 11,
      "outputs": [
        {
          "output_type": "execute_result",
          "data": {
            "text/plain": [
              "array([[[0.00295329, 0.06756582, 0.17810035, ..., 0.64427727,\n",
              "         0.18666617, 0.17831584],\n",
              "        [0.97403831, 0.49400135, 0.38074383, ..., 0.00287076,\n",
              "         0.8367898 , 0.00698407],\n",
              "        [0.70951111, 0.37231122, 0.3472935 , ..., 0.22023139,\n",
              "         0.63080627, 0.14972917],\n",
              "        ...,\n",
              "        [0.89022263, 0.66298104, 0.5414093 , ..., 0.8873789 ,\n",
              "         0.33770405, 0.26069974],\n",
              "        [0.11175224, 0.28141127, 0.5418432 , ..., 0.27891827,\n",
              "         0.01931695, 0.80354622],\n",
              "        [0.71560654, 0.73815798, 0.52127456, ..., 0.33473604,\n",
              "         0.07409996, 0.64883267]],\n",
              "\n",
              "       [[0.78659156, 0.18681344, 0.80544476, ..., 0.1610955 ,\n",
              "         0.84476206, 0.79455572],\n",
              "        [0.88397102, 0.83103052, 0.52675081, ..., 0.45783153,\n",
              "         0.3163319 , 0.86064916],\n",
              "        [0.29165039, 0.45150101, 0.66275883, ..., 0.43160593,\n",
              "         0.00283027, 0.58852742],\n",
              "        ...,\n",
              "        [0.24273215, 0.18681831, 0.03364603, ..., 0.10625461,\n",
              "         0.76221322, 0.99018463],\n",
              "        [0.47213841, 0.48698229, 0.74429519, ..., 0.33770714,\n",
              "         0.24311485, 0.63387649],\n",
              "        [0.89293276, 0.75850508, 0.51508217, ..., 0.14882708,\n",
              "         0.74954537, 0.36587468]],\n",
              "\n",
              "       [[0.5777351 , 0.38161745, 0.21980588, ..., 0.92379197,\n",
              "         0.31177883, 0.86547719],\n",
              "        [0.23579001, 0.23377408, 0.6763903 , ..., 0.99779836,\n",
              "         0.83131971, 0.14230598],\n",
              "        [0.79761396, 0.23641116, 0.34152905, ..., 0.12066958,\n",
              "         0.31425595, 0.35249682],\n",
              "        ...,\n",
              "        [0.34174626, 0.68075844, 0.35290226, ..., 0.08769217,\n",
              "         0.60721836, 0.96885303],\n",
              "        [0.38551068, 0.42691296, 0.62744826, ..., 0.48661002,\n",
              "         0.38152007, 0.27268302],\n",
              "        [0.74640164, 0.69130876, 0.04698512, ..., 0.67324233,\n",
              "         0.70505851, 0.02041153]],\n",
              "\n",
              "       ...,\n",
              "\n",
              "       [[0.73166665, 0.86160043, 0.4616122 , ..., 0.13463873,\n",
              "         0.41337471, 0.04544503],\n",
              "        [0.22654033, 0.02067116, 0.56879346, ..., 0.00182758,\n",
              "         0.29516445, 0.23517522],\n",
              "        [0.31621945, 0.74087114, 0.47834421, ..., 0.76737765,\n",
              "         0.9779911 , 0.87638393],\n",
              "        ...,\n",
              "        [0.87074195, 0.69892772, 0.43055378, ..., 0.53235272,\n",
              "         0.71454224, 0.83383909],\n",
              "        [0.10686039, 0.79995436, 0.0710064 , ..., 0.69368325,\n",
              "         0.74287188, 0.67906978],\n",
              "        [0.36778143, 0.24548599, 0.70397744, ..., 0.55411935,\n",
              "         0.10468848, 0.36316598]],\n",
              "\n",
              "       [[0.85721503, 0.68621479, 0.49429436, ..., 0.94966889,\n",
              "         0.67627908, 0.57316223],\n",
              "        [0.8256782 , 0.96011318, 0.55898585, ..., 0.36994088,\n",
              "         0.47225246, 0.9776804 ],\n",
              "        [0.28774895, 0.08210698, 0.81354302, ..., 0.81156554,\n",
              "         0.76783897, 0.032418  ],\n",
              "        ...,\n",
              "        [0.6196748 , 0.68697456, 0.32948989, ..., 0.91460761,\n",
              "         0.12161482, 0.87239258],\n",
              "        [0.21527058, 0.32953536, 0.83318154, ..., 0.26748501,\n",
              "         0.65589515, 0.69640723],\n",
              "        [0.20437985, 0.31171243, 0.39750206, ..., 0.66944768,\n",
              "         0.28084599, 0.06613552]],\n",
              "\n",
              "       [[0.9377842 , 0.98108123, 0.66906467, ..., 0.13599487,\n",
              "         0.21995607, 0.20836145],\n",
              "        [0.08402943, 0.47981203, 0.23853066, ..., 0.53191098,\n",
              "         0.55350623, 0.01065872],\n",
              "        [0.65604481, 0.76869111, 0.63556428, ..., 0.27801143,\n",
              "         0.7238908 , 0.27735602],\n",
              "        ...,\n",
              "        [0.27047988, 0.8844682 , 0.0754526 , ..., 0.30174741,\n",
              "         0.01699363, 0.97935846],\n",
              "        [0.4388981 , 0.4909634 , 0.94055601, ..., 0.35764138,\n",
              "         0.15695461, 0.38582902],\n",
              "        [0.66006161, 0.13997391, 0.82480293, ..., 0.59626748,\n",
              "         0.25916054, 0.17944188]]])"
            ]
          },
          "metadata": {
            "tags": []
          },
          "execution_count": 11
        }
      ]
    },
    {
      "cell_type": "code",
      "metadata": {
        "colab": {
          "base_uri": "https://localhost:8080/"
        },
        "id": "XzwP0Z4gxjGJ",
        "outputId": "eddcce80-ff2c-4cf6-b422-3afe69b9e0fd"
      },
      "source": [
        "array2.shape"
      ],
      "execution_count": 14,
      "outputs": [
        {
          "output_type": "execute_result",
          "data": {
            "text/plain": [
              "(100, 100)"
            ]
          },
          "metadata": {
            "tags": []
          },
          "execution_count": 14
        }
      ]
    }
  ]
}