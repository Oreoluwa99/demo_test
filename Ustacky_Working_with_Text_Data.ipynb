{
  "nbformat": 4,
  "nbformat_minor": 0,
  "metadata": {
    "colab": {
      "name": "Ustacky_Working_with_Text_Data.ipynb",
      "provenance": [],
      "authorship_tag": "ABX9TyMdd8wuEFBAaovyoxZ4MEE2",
      "include_colab_link": true
    },
    "kernelspec": {
      "name": "python3",
      "display_name": "Python 3"
    },
    "language_info": {
      "name": "python"
    }
  },
  "cells": [
    {
      "cell_type": "markdown",
      "metadata": {
        "id": "view-in-github",
        "colab_type": "text"
      },
      "source": [
        "<a href=\"https://colab.research.google.com/github/Oreoluwa99/demo_test/blob/main/Ustacky_Working_with_Text_Data.ipynb\" target=\"_parent\"><img src=\"https://colab.research.google.com/assets/colab-badge.svg\" alt=\"Open In Colab\"/></a>"
      ]
    },
    {
      "cell_type": "code",
      "metadata": {
        "id": "J2h_Sa6zGcd5"
      },
      "source": [
        "import numpy as np\n",
        "import pandas as pd\n"
      ],
      "execution_count": 1,
      "outputs": []
    },
    {
      "cell_type": "code",
      "metadata": {
        "id": "iljmdaK4Gq7r"
      },
      "source": [
        "detail1 = {'Key 1': ['K0', 'K1', 'K2', 'K3'],\n",
        "           'Key 2': ['K0', 'K1', 'K0', 'K1'],\n",
        "           'name': ['Ibrahim Musa', 'Emeka Jude', 'Emmanuel Ayomide', 'Nnamdi Ike'],\n",
        "           'Age': [24,25,27,24]}"
      ],
      "execution_count": 2,
      "outputs": []
    },
    {
      "cell_type": "code",
      "metadata": {
        "id": "BoiIXxFBHfw-"
      },
      "source": [
        "detail2 = {'Key 1': ['K0', 'K1', 'K2', 'K3'],\n",
        "           'Key 2': ['K0', 'K0', 'K0', 'K0'],\n",
        "           'Course': ['Physics', 'Statistics', 'Mathematics', 'Chemistry'],\n",
        "           'Sport': ['Football', 'Volleyball', 'Swimming', 'Basketball']}"
      ],
      "execution_count": 4,
      "outputs": []
    },
    {
      "cell_type": "code",
      "metadata": {
        "id": "Bx-3VaKiIY7B"
      },
      "source": [
        "df1 = pd.DataFrame(detail1)"
      ],
      "execution_count": 5,
      "outputs": []
    },
    {
      "cell_type": "code",
      "metadata": {
        "id": "1uaJnCS4Ieny"
      },
      "source": [
        "df2 = pd.DataFrame(detail2)"
      ],
      "execution_count": 8,
      "outputs": []
    },
    {
      "cell_type": "code",
      "metadata": {
        "colab": {
          "base_uri": "https://localhost:8080/",
          "height": 175
        },
        "id": "HqDhBvFbIvhF",
        "outputId": "bf3f9452-eda5-440d-96a2-006b895c483b"
      },
      "source": [
        "df1"
      ],
      "execution_count": 9,
      "outputs": [
        {
          "output_type": "execute_result",
          "data": {
            "text/html": [
              "<div>\n",
              "<style scoped>\n",
              "    .dataframe tbody tr th:only-of-type {\n",
              "        vertical-align: middle;\n",
              "    }\n",
              "\n",
              "    .dataframe tbody tr th {\n",
              "        vertical-align: top;\n",
              "    }\n",
              "\n",
              "    .dataframe thead th {\n",
              "        text-align: right;\n",
              "    }\n",
              "</style>\n",
              "<table border=\"1\" class=\"dataframe\">\n",
              "  <thead>\n",
              "    <tr style=\"text-align: right;\">\n",
              "      <th></th>\n",
              "      <th>Key 1</th>\n",
              "      <th>Key 2</th>\n",
              "      <th>name</th>\n",
              "      <th>Age</th>\n",
              "    </tr>\n",
              "  </thead>\n",
              "  <tbody>\n",
              "    <tr>\n",
              "      <th>0</th>\n",
              "      <td>K0</td>\n",
              "      <td>K0</td>\n",
              "      <td>Ibrahim Musa</td>\n",
              "      <td>24</td>\n",
              "    </tr>\n",
              "    <tr>\n",
              "      <th>1</th>\n",
              "      <td>K1</td>\n",
              "      <td>K1</td>\n",
              "      <td>Emeka Jude</td>\n",
              "      <td>25</td>\n",
              "    </tr>\n",
              "    <tr>\n",
              "      <th>2</th>\n",
              "      <td>K2</td>\n",
              "      <td>K0</td>\n",
              "      <td>Emmanuel Ayomide</td>\n",
              "      <td>27</td>\n",
              "    </tr>\n",
              "    <tr>\n",
              "      <th>3</th>\n",
              "      <td>K3</td>\n",
              "      <td>K1</td>\n",
              "      <td>Nnamdi Ike</td>\n",
              "      <td>24</td>\n",
              "    </tr>\n",
              "  </tbody>\n",
              "</table>\n",
              "</div>"
            ],
            "text/plain": [
              "  Key 1 Key 2              name  Age\n",
              "0    K0    K0      Ibrahim Musa   24\n",
              "1    K1    K1        Emeka Jude   25\n",
              "2    K2    K0  Emmanuel Ayomide   27\n",
              "3    K3    K1        Nnamdi Ike   24"
            ]
          },
          "metadata": {
            "tags": []
          },
          "execution_count": 9
        }
      ]
    },
    {
      "cell_type": "code",
      "metadata": {
        "colab": {
          "base_uri": "https://localhost:8080/",
          "height": 175
        },
        "id": "GhX6zNozI19E",
        "outputId": "df703420-75e1-4407-f530-0236555b5530"
      },
      "source": [
        "df2"
      ],
      "execution_count": 10,
      "outputs": [
        {
          "output_type": "execute_result",
          "data": {
            "text/html": [
              "<div>\n",
              "<style scoped>\n",
              "    .dataframe tbody tr th:only-of-type {\n",
              "        vertical-align: middle;\n",
              "    }\n",
              "\n",
              "    .dataframe tbody tr th {\n",
              "        vertical-align: top;\n",
              "    }\n",
              "\n",
              "    .dataframe thead th {\n",
              "        text-align: right;\n",
              "    }\n",
              "</style>\n",
              "<table border=\"1\" class=\"dataframe\">\n",
              "  <thead>\n",
              "    <tr style=\"text-align: right;\">\n",
              "      <th></th>\n",
              "      <th>Key 1</th>\n",
              "      <th>Key 2</th>\n",
              "      <th>Course</th>\n",
              "      <th>Sport</th>\n",
              "    </tr>\n",
              "  </thead>\n",
              "  <tbody>\n",
              "    <tr>\n",
              "      <th>0</th>\n",
              "      <td>K0</td>\n",
              "      <td>K0</td>\n",
              "      <td>Physics</td>\n",
              "      <td>Football</td>\n",
              "    </tr>\n",
              "    <tr>\n",
              "      <th>1</th>\n",
              "      <td>K1</td>\n",
              "      <td>K0</td>\n",
              "      <td>Statistics</td>\n",
              "      <td>Volleyball</td>\n",
              "    </tr>\n",
              "    <tr>\n",
              "      <th>2</th>\n",
              "      <td>K2</td>\n",
              "      <td>K0</td>\n",
              "      <td>Mathematics</td>\n",
              "      <td>Swimming</td>\n",
              "    </tr>\n",
              "    <tr>\n",
              "      <th>3</th>\n",
              "      <td>K3</td>\n",
              "      <td>K0</td>\n",
              "      <td>Chemistry</td>\n",
              "      <td>Basketball</td>\n",
              "    </tr>\n",
              "  </tbody>\n",
              "</table>\n",
              "</div>"
            ],
            "text/plain": [
              "  Key 1 Key 2       Course       Sport\n",
              "0    K0    K0      Physics    Football\n",
              "1    K1    K0   Statistics  Volleyball\n",
              "2    K2    K0  Mathematics    Swimming\n",
              "3    K3    K0    Chemistry  Basketball"
            ]
          },
          "metadata": {
            "tags": []
          },
          "execution_count": 10
        }
      ]
    },
    {
      "cell_type": "code",
      "metadata": {
        "colab": {
          "base_uri": "https://localhost:8080/",
          "height": 175
        },
        "id": "bZNmhWXqI34-",
        "outputId": "7a076b34-f2c0-4129-a06f-1f2d08de1bdb"
      },
      "source": [
        "#To merge the two tables togther, we make use of the merge function\n",
        "pd.merge(df1, df2, on=('Key 1'))"
      ],
      "execution_count": 12,
      "outputs": [
        {
          "output_type": "execute_result",
          "data": {
            "text/html": [
              "<div>\n",
              "<style scoped>\n",
              "    .dataframe tbody tr th:only-of-type {\n",
              "        vertical-align: middle;\n",
              "    }\n",
              "\n",
              "    .dataframe tbody tr th {\n",
              "        vertical-align: top;\n",
              "    }\n",
              "\n",
              "    .dataframe thead th {\n",
              "        text-align: right;\n",
              "    }\n",
              "</style>\n",
              "<table border=\"1\" class=\"dataframe\">\n",
              "  <thead>\n",
              "    <tr style=\"text-align: right;\">\n",
              "      <th></th>\n",
              "      <th>Key 1</th>\n",
              "      <th>Key 2_x</th>\n",
              "      <th>name</th>\n",
              "      <th>Age</th>\n",
              "      <th>Key 2_y</th>\n",
              "      <th>Course</th>\n",
              "      <th>Sport</th>\n",
              "    </tr>\n",
              "  </thead>\n",
              "  <tbody>\n",
              "    <tr>\n",
              "      <th>0</th>\n",
              "      <td>K0</td>\n",
              "      <td>K0</td>\n",
              "      <td>Ibrahim Musa</td>\n",
              "      <td>24</td>\n",
              "      <td>K0</td>\n",
              "      <td>Physics</td>\n",
              "      <td>Football</td>\n",
              "    </tr>\n",
              "    <tr>\n",
              "      <th>1</th>\n",
              "      <td>K1</td>\n",
              "      <td>K1</td>\n",
              "      <td>Emeka Jude</td>\n",
              "      <td>25</td>\n",
              "      <td>K0</td>\n",
              "      <td>Statistics</td>\n",
              "      <td>Volleyball</td>\n",
              "    </tr>\n",
              "    <tr>\n",
              "      <th>2</th>\n",
              "      <td>K2</td>\n",
              "      <td>K0</td>\n",
              "      <td>Emmanuel Ayomide</td>\n",
              "      <td>27</td>\n",
              "      <td>K0</td>\n",
              "      <td>Mathematics</td>\n",
              "      <td>Swimming</td>\n",
              "    </tr>\n",
              "    <tr>\n",
              "      <th>3</th>\n",
              "      <td>K3</td>\n",
              "      <td>K1</td>\n",
              "      <td>Nnamdi Ike</td>\n",
              "      <td>24</td>\n",
              "      <td>K0</td>\n",
              "      <td>Chemistry</td>\n",
              "      <td>Basketball</td>\n",
              "    </tr>\n",
              "  </tbody>\n",
              "</table>\n",
              "</div>"
            ],
            "text/plain": [
              "  Key 1 Key 2_x              name  Age Key 2_y       Course       Sport\n",
              "0    K0      K0      Ibrahim Musa   24      K0      Physics    Football\n",
              "1    K1      K1        Emeka Jude   25      K0   Statistics  Volleyball\n",
              "2    K2      K0  Emmanuel Ayomide   27      K0  Mathematics    Swimming\n",
              "3    K3      K1        Nnamdi Ike   24      K0    Chemistry  Basketball"
            ]
          },
          "metadata": {
            "tags": []
          },
          "execution_count": 12
        }
      ]
    },
    {
      "cell_type": "code",
      "metadata": {
        "colab": {
          "base_uri": "https://localhost:8080/",
          "height": 112
        },
        "id": "e4swFKpfNW24",
        "outputId": "25597a62-a685-4d50-da3b-2b69f5d21af5"
      },
      "source": [
        "pd.merge(df1, df2, on=('Key 1', 'Key 2'))"
      ],
      "execution_count": 13,
      "outputs": [
        {
          "output_type": "execute_result",
          "data": {
            "text/html": [
              "<div>\n",
              "<style scoped>\n",
              "    .dataframe tbody tr th:only-of-type {\n",
              "        vertical-align: middle;\n",
              "    }\n",
              "\n",
              "    .dataframe tbody tr th {\n",
              "        vertical-align: top;\n",
              "    }\n",
              "\n",
              "    .dataframe thead th {\n",
              "        text-align: right;\n",
              "    }\n",
              "</style>\n",
              "<table border=\"1\" class=\"dataframe\">\n",
              "  <thead>\n",
              "    <tr style=\"text-align: right;\">\n",
              "      <th></th>\n",
              "      <th>Key 1</th>\n",
              "      <th>Key 2</th>\n",
              "      <th>name</th>\n",
              "      <th>Age</th>\n",
              "      <th>Course</th>\n",
              "      <th>Sport</th>\n",
              "    </tr>\n",
              "  </thead>\n",
              "  <tbody>\n",
              "    <tr>\n",
              "      <th>0</th>\n",
              "      <td>K0</td>\n",
              "      <td>K0</td>\n",
              "      <td>Ibrahim Musa</td>\n",
              "      <td>24</td>\n",
              "      <td>Physics</td>\n",
              "      <td>Football</td>\n",
              "    </tr>\n",
              "    <tr>\n",
              "      <th>1</th>\n",
              "      <td>K2</td>\n",
              "      <td>K0</td>\n",
              "      <td>Emmanuel Ayomide</td>\n",
              "      <td>27</td>\n",
              "      <td>Mathematics</td>\n",
              "      <td>Swimming</td>\n",
              "    </tr>\n",
              "  </tbody>\n",
              "</table>\n",
              "</div>"
            ],
            "text/plain": [
              "  Key 1 Key 2              name  Age       Course     Sport\n",
              "0    K0    K0      Ibrahim Musa   24      Physics  Football\n",
              "1    K2    K0  Emmanuel Ayomide   27  Mathematics  Swimming"
            ]
          },
          "metadata": {
            "tags": []
          },
          "execution_count": 13
        }
      ]
    },
    {
      "cell_type": "code",
      "metadata": {
        "colab": {
          "base_uri": "https://localhost:8080/",
          "height": 112
        },
        "id": "JuPR3qSVOVCw",
        "outputId": "b163bb8a-bba4-4f02-d85f-a2300df653a7"
      },
      "source": [
        "#Using the default how parameter inner\n",
        "pd.merge(df1, df2,how='inner', on=('Key 1', 'Key 2') )"
      ],
      "execution_count": 14,
      "outputs": [
        {
          "output_type": "execute_result",
          "data": {
            "text/html": [
              "<div>\n",
              "<style scoped>\n",
              "    .dataframe tbody tr th:only-of-type {\n",
              "        vertical-align: middle;\n",
              "    }\n",
              "\n",
              "    .dataframe tbody tr th {\n",
              "        vertical-align: top;\n",
              "    }\n",
              "\n",
              "    .dataframe thead th {\n",
              "        text-align: right;\n",
              "    }\n",
              "</style>\n",
              "<table border=\"1\" class=\"dataframe\">\n",
              "  <thead>\n",
              "    <tr style=\"text-align: right;\">\n",
              "      <th></th>\n",
              "      <th>Key 1</th>\n",
              "      <th>Key 2</th>\n",
              "      <th>name</th>\n",
              "      <th>Age</th>\n",
              "      <th>Course</th>\n",
              "      <th>Sport</th>\n",
              "    </tr>\n",
              "  </thead>\n",
              "  <tbody>\n",
              "    <tr>\n",
              "      <th>0</th>\n",
              "      <td>K0</td>\n",
              "      <td>K0</td>\n",
              "      <td>Ibrahim Musa</td>\n",
              "      <td>24</td>\n",
              "      <td>Physics</td>\n",
              "      <td>Football</td>\n",
              "    </tr>\n",
              "    <tr>\n",
              "      <th>1</th>\n",
              "      <td>K2</td>\n",
              "      <td>K0</td>\n",
              "      <td>Emmanuel Ayomide</td>\n",
              "      <td>27</td>\n",
              "      <td>Mathematics</td>\n",
              "      <td>Swimming</td>\n",
              "    </tr>\n",
              "  </tbody>\n",
              "</table>\n",
              "</div>"
            ],
            "text/plain": [
              "  Key 1 Key 2              name  Age       Course     Sport\n",
              "0    K0    K0      Ibrahim Musa   24      Physics  Football\n",
              "1    K2    K0  Emmanuel Ayomide   27  Mathematics  Swimming"
            ]
          },
          "metadata": {
            "tags": []
          },
          "execution_count": 14
        }
      ]
    },
    {
      "cell_type": "code",
      "metadata": {
        "colab": {
          "base_uri": "https://localhost:8080/",
          "height": 175
        },
        "id": "kdqD1YhxPM1_",
        "outputId": "ae7a5268-f6c8-4832-cf7d-a45a6e29398e"
      },
      "source": [
        "#Using the left join method now\n",
        "pd.merge(df1, df2, how='left', on=('Key 1', 'Key 2'))"
      ],
      "execution_count": 15,
      "outputs": [
        {
          "output_type": "execute_result",
          "data": {
            "text/html": [
              "<div>\n",
              "<style scoped>\n",
              "    .dataframe tbody tr th:only-of-type {\n",
              "        vertical-align: middle;\n",
              "    }\n",
              "\n",
              "    .dataframe tbody tr th {\n",
              "        vertical-align: top;\n",
              "    }\n",
              "\n",
              "    .dataframe thead th {\n",
              "        text-align: right;\n",
              "    }\n",
              "</style>\n",
              "<table border=\"1\" class=\"dataframe\">\n",
              "  <thead>\n",
              "    <tr style=\"text-align: right;\">\n",
              "      <th></th>\n",
              "      <th>Key 1</th>\n",
              "      <th>Key 2</th>\n",
              "      <th>name</th>\n",
              "      <th>Age</th>\n",
              "      <th>Course</th>\n",
              "      <th>Sport</th>\n",
              "    </tr>\n",
              "  </thead>\n",
              "  <tbody>\n",
              "    <tr>\n",
              "      <th>0</th>\n",
              "      <td>K0</td>\n",
              "      <td>K0</td>\n",
              "      <td>Ibrahim Musa</td>\n",
              "      <td>24</td>\n",
              "      <td>Physics</td>\n",
              "      <td>Football</td>\n",
              "    </tr>\n",
              "    <tr>\n",
              "      <th>1</th>\n",
              "      <td>K1</td>\n",
              "      <td>K1</td>\n",
              "      <td>Emeka Jude</td>\n",
              "      <td>25</td>\n",
              "      <td>NaN</td>\n",
              "      <td>NaN</td>\n",
              "    </tr>\n",
              "    <tr>\n",
              "      <th>2</th>\n",
              "      <td>K2</td>\n",
              "      <td>K0</td>\n",
              "      <td>Emmanuel Ayomide</td>\n",
              "      <td>27</td>\n",
              "      <td>Mathematics</td>\n",
              "      <td>Swimming</td>\n",
              "    </tr>\n",
              "    <tr>\n",
              "      <th>3</th>\n",
              "      <td>K3</td>\n",
              "      <td>K1</td>\n",
              "      <td>Nnamdi Ike</td>\n",
              "      <td>24</td>\n",
              "      <td>NaN</td>\n",
              "      <td>NaN</td>\n",
              "    </tr>\n",
              "  </tbody>\n",
              "</table>\n",
              "</div>"
            ],
            "text/plain": [
              "  Key 1 Key 2              name  Age       Course     Sport\n",
              "0    K0    K0      Ibrahim Musa   24      Physics  Football\n",
              "1    K1    K1        Emeka Jude   25          NaN       NaN\n",
              "2    K2    K0  Emmanuel Ayomide   27  Mathematics  Swimming\n",
              "3    K3    K1        Nnamdi Ike   24          NaN       NaN"
            ]
          },
          "metadata": {
            "tags": []
          },
          "execution_count": 15
        }
      ]
    },
    {
      "cell_type": "code",
      "metadata": {
        "colab": {
          "base_uri": "https://localhost:8080/",
          "height": 175
        },
        "id": "tFHWoiT2P-AU",
        "outputId": "d87a32fb-7ee5-450d-dc49-d892bad811b0"
      },
      "source": [
        "#Using the right join\n",
        "pd.merge(df1, df2, how='right', on=('Key 1', 'Key 2'))"
      ],
      "execution_count": 16,
      "outputs": [
        {
          "output_type": "execute_result",
          "data": {
            "text/html": [
              "<div>\n",
              "<style scoped>\n",
              "    .dataframe tbody tr th:only-of-type {\n",
              "        vertical-align: middle;\n",
              "    }\n",
              "\n",
              "    .dataframe tbody tr th {\n",
              "        vertical-align: top;\n",
              "    }\n",
              "\n",
              "    .dataframe thead th {\n",
              "        text-align: right;\n",
              "    }\n",
              "</style>\n",
              "<table border=\"1\" class=\"dataframe\">\n",
              "  <thead>\n",
              "    <tr style=\"text-align: right;\">\n",
              "      <th></th>\n",
              "      <th>Key 1</th>\n",
              "      <th>Key 2</th>\n",
              "      <th>name</th>\n",
              "      <th>Age</th>\n",
              "      <th>Course</th>\n",
              "      <th>Sport</th>\n",
              "    </tr>\n",
              "  </thead>\n",
              "  <tbody>\n",
              "    <tr>\n",
              "      <th>0</th>\n",
              "      <td>K0</td>\n",
              "      <td>K0</td>\n",
              "      <td>Ibrahim Musa</td>\n",
              "      <td>24.0</td>\n",
              "      <td>Physics</td>\n",
              "      <td>Football</td>\n",
              "    </tr>\n",
              "    <tr>\n",
              "      <th>1</th>\n",
              "      <td>K1</td>\n",
              "      <td>K0</td>\n",
              "      <td>NaN</td>\n",
              "      <td>NaN</td>\n",
              "      <td>Statistics</td>\n",
              "      <td>Volleyball</td>\n",
              "    </tr>\n",
              "    <tr>\n",
              "      <th>2</th>\n",
              "      <td>K2</td>\n",
              "      <td>K0</td>\n",
              "      <td>Emmanuel Ayomide</td>\n",
              "      <td>27.0</td>\n",
              "      <td>Mathematics</td>\n",
              "      <td>Swimming</td>\n",
              "    </tr>\n",
              "    <tr>\n",
              "      <th>3</th>\n",
              "      <td>K3</td>\n",
              "      <td>K0</td>\n",
              "      <td>NaN</td>\n",
              "      <td>NaN</td>\n",
              "      <td>Chemistry</td>\n",
              "      <td>Basketball</td>\n",
              "    </tr>\n",
              "  </tbody>\n",
              "</table>\n",
              "</div>"
            ],
            "text/plain": [
              "  Key 1 Key 2              name   Age       Course       Sport\n",
              "0    K0    K0      Ibrahim Musa  24.0      Physics    Football\n",
              "1    K1    K0               NaN   NaN   Statistics  Volleyball\n",
              "2    K2    K0  Emmanuel Ayomide  27.0  Mathematics    Swimming\n",
              "3    K3    K0               NaN   NaN    Chemistry  Basketball"
            ]
          },
          "metadata": {
            "tags": []
          },
          "execution_count": 16
        }
      ]
    },
    {
      "cell_type": "code",
      "metadata": {
        "colab": {
          "base_uri": "https://localhost:8080/",
          "height": 238
        },
        "id": "6zrARZ5uQaXW",
        "outputId": "b352a1be-d23e-4a7c-8586-d6423eee1cd3"
      },
      "source": [
        "#Using the outer join\n",
        "pd.merge(df1, df2, how='outer', on=('Key 1', 'Key 2'))"
      ],
      "execution_count": 17,
      "outputs": [
        {
          "output_type": "execute_result",
          "data": {
            "text/html": [
              "<div>\n",
              "<style scoped>\n",
              "    .dataframe tbody tr th:only-of-type {\n",
              "        vertical-align: middle;\n",
              "    }\n",
              "\n",
              "    .dataframe tbody tr th {\n",
              "        vertical-align: top;\n",
              "    }\n",
              "\n",
              "    .dataframe thead th {\n",
              "        text-align: right;\n",
              "    }\n",
              "</style>\n",
              "<table border=\"1\" class=\"dataframe\">\n",
              "  <thead>\n",
              "    <tr style=\"text-align: right;\">\n",
              "      <th></th>\n",
              "      <th>Key 1</th>\n",
              "      <th>Key 2</th>\n",
              "      <th>name</th>\n",
              "      <th>Age</th>\n",
              "      <th>Course</th>\n",
              "      <th>Sport</th>\n",
              "    </tr>\n",
              "  </thead>\n",
              "  <tbody>\n",
              "    <tr>\n",
              "      <th>0</th>\n",
              "      <td>K0</td>\n",
              "      <td>K0</td>\n",
              "      <td>Ibrahim Musa</td>\n",
              "      <td>24.0</td>\n",
              "      <td>Physics</td>\n",
              "      <td>Football</td>\n",
              "    </tr>\n",
              "    <tr>\n",
              "      <th>1</th>\n",
              "      <td>K1</td>\n",
              "      <td>K1</td>\n",
              "      <td>Emeka Jude</td>\n",
              "      <td>25.0</td>\n",
              "      <td>NaN</td>\n",
              "      <td>NaN</td>\n",
              "    </tr>\n",
              "    <tr>\n",
              "      <th>2</th>\n",
              "      <td>K2</td>\n",
              "      <td>K0</td>\n",
              "      <td>Emmanuel Ayomide</td>\n",
              "      <td>27.0</td>\n",
              "      <td>Mathematics</td>\n",
              "      <td>Swimming</td>\n",
              "    </tr>\n",
              "    <tr>\n",
              "      <th>3</th>\n",
              "      <td>K3</td>\n",
              "      <td>K1</td>\n",
              "      <td>Nnamdi Ike</td>\n",
              "      <td>24.0</td>\n",
              "      <td>NaN</td>\n",
              "      <td>NaN</td>\n",
              "    </tr>\n",
              "    <tr>\n",
              "      <th>4</th>\n",
              "      <td>K1</td>\n",
              "      <td>K0</td>\n",
              "      <td>NaN</td>\n",
              "      <td>NaN</td>\n",
              "      <td>Statistics</td>\n",
              "      <td>Volleyball</td>\n",
              "    </tr>\n",
              "    <tr>\n",
              "      <th>5</th>\n",
              "      <td>K3</td>\n",
              "      <td>K0</td>\n",
              "      <td>NaN</td>\n",
              "      <td>NaN</td>\n",
              "      <td>Chemistry</td>\n",
              "      <td>Basketball</td>\n",
              "    </tr>\n",
              "  </tbody>\n",
              "</table>\n",
              "</div>"
            ],
            "text/plain": [
              "  Key 1 Key 2              name   Age       Course       Sport\n",
              "0    K0    K0      Ibrahim Musa  24.0      Physics    Football\n",
              "1    K1    K1        Emeka Jude  25.0          NaN         NaN\n",
              "2    K2    K0  Emmanuel Ayomide  27.0  Mathematics    Swimming\n",
              "3    K3    K1        Nnamdi Ike  24.0          NaN         NaN\n",
              "4    K1    K0               NaN   NaN   Statistics  Volleyball\n",
              "5    K3    K0               NaN   NaN    Chemistry  Basketball"
            ]
          },
          "metadata": {
            "tags": []
          },
          "execution_count": 17
        }
      ]
    },
    {
      "cell_type": "markdown",
      "metadata": {
        "id": "RQ4OYhqDWGFW"
      },
      "source": [
        "#Working with text data - the next topic"
      ]
    },
    {
      "cell_type": "code",
      "metadata": {
        "id": "326rskiCWOu1"
      },
      "source": [
        "import numpy as np\n",
        "import pandas as pd"
      ],
      "execution_count": 18,
      "outputs": []
    },
    {
      "cell_type": "code",
      "metadata": {
        "id": "VFtH4uEsWVES"
      },
      "source": [
        "detail1 = {'Name': ['Ibrahim Musa', 'Emeka Jude', 'Emmanuel Ayomide', 'Nnamdi Ike'],\n",
        "           'Age': [24,25,27,24],\n",
        "           'Course': ['Physics', 'Statistics', 'Mathematics', 'Chemistry'],\n",
        "           'Sport': ['Football', 'Volleyball', 'Swiming', 'Basketball'],\n",
        "           'Amount': ['$20000', '$25000', '$20000', '$20200']}"
      ],
      "execution_count": 41,
      "outputs": []
    },
    {
      "cell_type": "code",
      "metadata": {
        "id": "D5GrTMf6Xh6q"
      },
      "source": [
        "df = pd.DataFrame(detail1)"
      ],
      "execution_count": 42,
      "outputs": []
    },
    {
      "cell_type": "code",
      "metadata": {
        "colab": {
          "base_uri": "https://localhost:8080/",
          "height": 175
        },
        "id": "QcZg6hFRXvUL",
        "outputId": "984b7e9c-b562-4c1b-d2db-f55e5570d7fa"
      },
      "source": [
        "df"
      ],
      "execution_count": 43,
      "outputs": [
        {
          "output_type": "execute_result",
          "data": {
            "text/html": [
              "<div>\n",
              "<style scoped>\n",
              "    .dataframe tbody tr th:only-of-type {\n",
              "        vertical-align: middle;\n",
              "    }\n",
              "\n",
              "    .dataframe tbody tr th {\n",
              "        vertical-align: top;\n",
              "    }\n",
              "\n",
              "    .dataframe thead th {\n",
              "        text-align: right;\n",
              "    }\n",
              "</style>\n",
              "<table border=\"1\" class=\"dataframe\">\n",
              "  <thead>\n",
              "    <tr style=\"text-align: right;\">\n",
              "      <th></th>\n",
              "      <th>Name</th>\n",
              "      <th>Age</th>\n",
              "      <th>Course</th>\n",
              "      <th>Sport</th>\n",
              "      <th>Amount</th>\n",
              "    </tr>\n",
              "  </thead>\n",
              "  <tbody>\n",
              "    <tr>\n",
              "      <th>0</th>\n",
              "      <td>Ibrahim Musa</td>\n",
              "      <td>24</td>\n",
              "      <td>Physics</td>\n",
              "      <td>Football</td>\n",
              "      <td>$20000</td>\n",
              "    </tr>\n",
              "    <tr>\n",
              "      <th>1</th>\n",
              "      <td>Emeka Jude</td>\n",
              "      <td>25</td>\n",
              "      <td>Statistics</td>\n",
              "      <td>Volleyball</td>\n",
              "      <td>$25000</td>\n",
              "    </tr>\n",
              "    <tr>\n",
              "      <th>2</th>\n",
              "      <td>Emmanuel Ayomide</td>\n",
              "      <td>27</td>\n",
              "      <td>Mathematics</td>\n",
              "      <td>Swiming</td>\n",
              "      <td>$20000</td>\n",
              "    </tr>\n",
              "    <tr>\n",
              "      <th>3</th>\n",
              "      <td>Nnamdi Ike</td>\n",
              "      <td>24</td>\n",
              "      <td>Chemistry</td>\n",
              "      <td>Basketball</td>\n",
              "      <td>$20200</td>\n",
              "    </tr>\n",
              "  </tbody>\n",
              "</table>\n",
              "</div>"
            ],
            "text/plain": [
              "               Name  Age       Course       Sport  Amount\n",
              "0      Ibrahim Musa   24      Physics    Football  $20000\n",
              "1        Emeka Jude   25   Statistics  Volleyball  $25000\n",
              "2  Emmanuel Ayomide   27  Mathematics     Swiming  $20000\n",
              "3        Nnamdi Ike   24    Chemistry  Basketball  $20200"
            ]
          },
          "metadata": {
            "tags": []
          },
          "execution_count": 43
        }
      ]
    },
    {
      "cell_type": "code",
      "metadata": {
        "colab": {
          "base_uri": "https://localhost:8080/"
        },
        "id": "0Q3c3KHcYJZC",
        "outputId": "3e720ad1-9e63-4c83-daa9-6392298457fc"
      },
      "source": [
        "df['Name'].str.lower()"
      ],
      "execution_count": 24,
      "outputs": [
        {
          "output_type": "execute_result",
          "data": {
            "text/plain": [
              "0        ibrahim musa\n",
              "1          emeka jude\n",
              "2    emmanuel ayomide\n",
              "3          nnamdi ike\n",
              "Name: Name, dtype: object"
            ]
          },
          "metadata": {
            "tags": []
          },
          "execution_count": 24
        }
      ]
    },
    {
      "cell_type": "code",
      "metadata": {
        "colab": {
          "base_uri": "https://localhost:8080/"
        },
        "id": "QA2Z2Bk9YgM7",
        "outputId": "49862f07-0b79-480b-9c16-25d637dd9506"
      },
      "source": [
        "df['Name'].str.upper().str.isupper()"
      ],
      "execution_count": 29,
      "outputs": [
        {
          "output_type": "execute_result",
          "data": {
            "text/plain": [
              "0    True\n",
              "1    True\n",
              "2    True\n",
              "3    True\n",
              "Name: Name, dtype: bool"
            ]
          },
          "metadata": {
            "tags": []
          },
          "execution_count": 29
        }
      ]
    },
    {
      "cell_type": "code",
      "metadata": {
        "colab": {
          "base_uri": "https://localhost:8080/"
        },
        "id": "J5QmjDnOYjRm",
        "outputId": "51c5bfca-fcfc-46af-eaf6-b6b49d11986a"
      },
      "source": [
        "df['Name'].str.islower()"
      ],
      "execution_count": 26,
      "outputs": [
        {
          "output_type": "execute_result",
          "data": {
            "text/plain": [
              "0    False\n",
              "1    False\n",
              "2    False\n",
              "3    False\n",
              "Name: Name, dtype: bool"
            ]
          },
          "metadata": {
            "tags": []
          },
          "execution_count": 26
        }
      ]
    },
    {
      "cell_type": "code",
      "metadata": {
        "colab": {
          "base_uri": "https://localhost:8080/"
        },
        "id": "HRguHnjGZfZC",
        "outputId": "2b57cd3d-1711-4003-a33c-5efc71765e84"
      },
      "source": [
        "df['Name'].str.swapcase()"
      ],
      "execution_count": 30,
      "outputs": [
        {
          "output_type": "execute_result",
          "data": {
            "text/plain": [
              "0        iBRAHIM mUSA\n",
              "1          eMEKA jUDE\n",
              "2    eMMANUEL aYOMIDE\n",
              "3          nNAMDI iKE\n",
              "Name: Name, dtype: object"
            ]
          },
          "metadata": {
            "tags": []
          },
          "execution_count": 30
        }
      ]
    },
    {
      "cell_type": "code",
      "metadata": {
        "colab": {
          "base_uri": "https://localhost:8080/"
        },
        "id": "g-7LfnQNZzGQ",
        "outputId": "7fea4fc2-a821-476b-ce68-ce6316439699"
      },
      "source": [
        "df['Name'].str.len()"
      ],
      "execution_count": 31,
      "outputs": [
        {
          "output_type": "execute_result",
          "data": {
            "text/plain": [
              "0    12\n",
              "1    10\n",
              "2    16\n",
              "3    10\n",
              "Name: Name, dtype: int64"
            ]
          },
          "metadata": {
            "tags": []
          },
          "execution_count": 31
        }
      ]
    },
    {
      "cell_type": "code",
      "metadata": {
        "colab": {
          "base_uri": "https://localhost:8080/"
        },
        "id": "kos2bKE0Z4X0",
        "outputId": "17706149-72d3-4499-b10c-03b3b966d075"
      },
      "source": [
        "df['Course'].str.len()"
      ],
      "execution_count": 32,
      "outputs": [
        {
          "output_type": "execute_result",
          "data": {
            "text/plain": [
              "0     7\n",
              "1    10\n",
              "2    11\n",
              "3     9\n",
              "Name: Course, dtype: int64"
            ]
          },
          "metadata": {
            "tags": []
          },
          "execution_count": 32
        }
      ]
    },
    {
      "cell_type": "code",
      "metadata": {
        "colab": {
          "base_uri": "https://localhost:8080/",
          "height": 175
        },
        "id": "y-zo-RCFaH17",
        "outputId": "44e5c67f-444f-4c50-ebe6-182a010ee33d"
      },
      "source": [
        "df"
      ],
      "execution_count": 37,
      "outputs": [
        {
          "output_type": "execute_result",
          "data": {
            "text/html": [
              "<div>\n",
              "<style scoped>\n",
              "    .dataframe tbody tr th:only-of-type {\n",
              "        vertical-align: middle;\n",
              "    }\n",
              "\n",
              "    .dataframe tbody tr th {\n",
              "        vertical-align: top;\n",
              "    }\n",
              "\n",
              "    .dataframe thead th {\n",
              "        text-align: right;\n",
              "    }\n",
              "</style>\n",
              "<table border=\"1\" class=\"dataframe\">\n",
              "  <thead>\n",
              "    <tr style=\"text-align: right;\">\n",
              "      <th></th>\n",
              "      <th>Name</th>\n",
              "      <th>Age</th>\n",
              "      <th>Course</th>\n",
              "      <th>Sport</th>\n",
              "      <th>Amount</th>\n",
              "    </tr>\n",
              "  </thead>\n",
              "  <tbody>\n",
              "    <tr>\n",
              "      <th>0</th>\n",
              "      <td>Ibrahim Musa</td>\n",
              "      <td>24</td>\n",
              "      <td>Physics</td>\n",
              "      <td>Football</td>\n",
              "      <td>20000</td>\n",
              "    </tr>\n",
              "    <tr>\n",
              "      <th>1</th>\n",
              "      <td>Emeka Jude</td>\n",
              "      <td>25</td>\n",
              "      <td>Statistics</td>\n",
              "      <td>Volleyball</td>\n",
              "      <td>25000</td>\n",
              "    </tr>\n",
              "    <tr>\n",
              "      <th>2</th>\n",
              "      <td>Emmanuel Ayomide</td>\n",
              "      <td>27</td>\n",
              "      <td>Mathematics</td>\n",
              "      <td>Swiming</td>\n",
              "      <td>20000</td>\n",
              "    </tr>\n",
              "    <tr>\n",
              "      <th>3</th>\n",
              "      <td>Nnamdi Ike</td>\n",
              "      <td>24</td>\n",
              "      <td>Chemistry</td>\n",
              "      <td>Basketball</td>\n",
              "      <td>20200</td>\n",
              "    </tr>\n",
              "  </tbody>\n",
              "</table>\n",
              "</div>"
            ],
            "text/plain": [
              "               Name  Age       Course       Sport  Amount\n",
              "0      Ibrahim Musa   24      Physics    Football   20000\n",
              "1        Emeka Jude   25   Statistics  Volleyball   25000\n",
              "2  Emmanuel Ayomide   27  Mathematics     Swiming   20000\n",
              "3        Nnamdi Ike   24    Chemistry  Basketball   20200"
            ]
          },
          "metadata": {
            "tags": []
          },
          "execution_count": 37
        }
      ]
    },
    {
      "cell_type": "code",
      "metadata": {
        "colab": {
          "base_uri": "https://localhost:8080/",
          "height": 175
        },
        "id": "_Q6vm9vmaKO_",
        "outputId": "3d003ea7-e2ae-4347-8385-6c2c12e864b4"
      },
      "source": [
        "df"
      ],
      "execution_count": 44,
      "outputs": [
        {
          "output_type": "execute_result",
          "data": {
            "text/html": [
              "<div>\n",
              "<style scoped>\n",
              "    .dataframe tbody tr th:only-of-type {\n",
              "        vertical-align: middle;\n",
              "    }\n",
              "\n",
              "    .dataframe tbody tr th {\n",
              "        vertical-align: top;\n",
              "    }\n",
              "\n",
              "    .dataframe thead th {\n",
              "        text-align: right;\n",
              "    }\n",
              "</style>\n",
              "<table border=\"1\" class=\"dataframe\">\n",
              "  <thead>\n",
              "    <tr style=\"text-align: right;\">\n",
              "      <th></th>\n",
              "      <th>Name</th>\n",
              "      <th>Age</th>\n",
              "      <th>Course</th>\n",
              "      <th>Sport</th>\n",
              "      <th>Amount</th>\n",
              "    </tr>\n",
              "  </thead>\n",
              "  <tbody>\n",
              "    <tr>\n",
              "      <th>0</th>\n",
              "      <td>Ibrahim Musa</td>\n",
              "      <td>24</td>\n",
              "      <td>Physics</td>\n",
              "      <td>Football</td>\n",
              "      <td>$20000</td>\n",
              "    </tr>\n",
              "    <tr>\n",
              "      <th>1</th>\n",
              "      <td>Emeka Jude</td>\n",
              "      <td>25</td>\n",
              "      <td>Statistics</td>\n",
              "      <td>Volleyball</td>\n",
              "      <td>$25000</td>\n",
              "    </tr>\n",
              "    <tr>\n",
              "      <th>2</th>\n",
              "      <td>Emmanuel Ayomide</td>\n",
              "      <td>27</td>\n",
              "      <td>Mathematics</td>\n",
              "      <td>Swiming</td>\n",
              "      <td>$20000</td>\n",
              "    </tr>\n",
              "    <tr>\n",
              "      <th>3</th>\n",
              "      <td>Nnamdi Ike</td>\n",
              "      <td>24</td>\n",
              "      <td>Chemistry</td>\n",
              "      <td>Basketball</td>\n",
              "      <td>$20200</td>\n",
              "    </tr>\n",
              "  </tbody>\n",
              "</table>\n",
              "</div>"
            ],
            "text/plain": [
              "               Name  Age       Course       Sport  Amount\n",
              "0      Ibrahim Musa   24      Physics    Football  $20000\n",
              "1        Emeka Jude   25   Statistics  Volleyball  $25000\n",
              "2  Emmanuel Ayomide   27  Mathematics     Swiming  $20000\n",
              "3        Nnamdi Ike   24    Chemistry  Basketball  $20200"
            ]
          },
          "metadata": {
            "tags": []
          },
          "execution_count": 44
        }
      ]
    },
    {
      "cell_type": "code",
      "metadata": {
        "colab": {
          "base_uri": "https://localhost:8080/"
        },
        "id": "wCzDmDc3a4fw",
        "outputId": "1d788d87-89da-4895-a43b-46029c1e624a"
      },
      "source": [
        "df['Amount'].str.isnumeric()"
      ],
      "execution_count": 45,
      "outputs": [
        {
          "output_type": "execute_result",
          "data": {
            "text/plain": [
              "0    False\n",
              "1    False\n",
              "2    False\n",
              "3    False\n",
              "Name: Amount, dtype: bool"
            ]
          },
          "metadata": {
            "tags": []
          },
          "execution_count": 45
        }
      ]
    },
    {
      "cell_type": "markdown",
      "metadata": {
        "id": "31nOv9xacI1S"
      },
      "source": [
        "###Splitting and Replacing\n",
        "* Cat - Concatenates the series/index elements with given separator\n",
        "* Split - Splits each string with the given pattern\n",
        "* Replace - Replace a value with another value"
      ]
    },
    {
      "cell_type": "markdown",
      "metadata": {
        "id": "dhcgaNQOcFoW"
      },
      "source": [
        ""
      ]
    },
    {
      "cell_type": "code",
      "metadata": {
        "colab": {
          "base_uri": "https://localhost:8080/",
          "height": 36
        },
        "id": "DORQVirnctal",
        "outputId": "29454394-73e3-487f-d2e4-77102f6afd90"
      },
      "source": [
        "df['Name'].str.cat(sep='_')"
      ],
      "execution_count": 46,
      "outputs": [
        {
          "output_type": "execute_result",
          "data": {
            "application/vnd.google.colaboratory.intrinsic+json": {
              "type": "string"
            },
            "text/plain": [
              "'Ibrahim Musa_Emeka Jude_Emmanuel Ayomide_Nnamdi Ike'"
            ]
          },
          "metadata": {
            "tags": []
          },
          "execution_count": 46
        }
      ]
    },
    {
      "cell_type": "code",
      "metadata": {
        "colab": {
          "base_uri": "https://localhost:8080/"
        },
        "id": "dleGeWfPdB4K",
        "outputId": "b2b169f9-ff36-4c08-98cb-316762b2a567"
      },
      "source": [
        "'I am learing nothing but Pandas'.split(' ')"
      ],
      "execution_count": 50,
      "outputs": [
        {
          "output_type": "execute_result",
          "data": {
            "text/plain": [
              "['I', 'am', 'learing', 'nothing', 'but', 'Pandas']"
            ]
          },
          "metadata": {
            "tags": []
          },
          "execution_count": 50
        }
      ]
    },
    {
      "cell_type": "code",
      "metadata": {
        "colab": {
          "base_uri": "https://localhost:8080/",
          "height": 175
        },
        "id": "F9evrGeVgkPc",
        "outputId": "c4c1b3ff-34b9-4352-f872-35e01be5828e"
      },
      "source": [
        "df"
      ],
      "execution_count": 51,
      "outputs": [
        {
          "output_type": "execute_result",
          "data": {
            "text/html": [
              "<div>\n",
              "<style scoped>\n",
              "    .dataframe tbody tr th:only-of-type {\n",
              "        vertical-align: middle;\n",
              "    }\n",
              "\n",
              "    .dataframe tbody tr th {\n",
              "        vertical-align: top;\n",
              "    }\n",
              "\n",
              "    .dataframe thead th {\n",
              "        text-align: right;\n",
              "    }\n",
              "</style>\n",
              "<table border=\"1\" class=\"dataframe\">\n",
              "  <thead>\n",
              "    <tr style=\"text-align: right;\">\n",
              "      <th></th>\n",
              "      <th>Name</th>\n",
              "      <th>Age</th>\n",
              "      <th>Course</th>\n",
              "      <th>Sport</th>\n",
              "      <th>Amount</th>\n",
              "    </tr>\n",
              "  </thead>\n",
              "  <tbody>\n",
              "    <tr>\n",
              "      <th>0</th>\n",
              "      <td>Ibrahim Musa</td>\n",
              "      <td>24</td>\n",
              "      <td>Physics</td>\n",
              "      <td>Football</td>\n",
              "      <td>$20000</td>\n",
              "    </tr>\n",
              "    <tr>\n",
              "      <th>1</th>\n",
              "      <td>Emeka Jude</td>\n",
              "      <td>25</td>\n",
              "      <td>Statistics</td>\n",
              "      <td>Volleyball</td>\n",
              "      <td>$25000</td>\n",
              "    </tr>\n",
              "    <tr>\n",
              "      <th>2</th>\n",
              "      <td>Emmanuel Ayomide</td>\n",
              "      <td>27</td>\n",
              "      <td>Mathematics</td>\n",
              "      <td>Swiming</td>\n",
              "      <td>$20000</td>\n",
              "    </tr>\n",
              "    <tr>\n",
              "      <th>3</th>\n",
              "      <td>Nnamdi Ike</td>\n",
              "      <td>24</td>\n",
              "      <td>Chemistry</td>\n",
              "      <td>Basketball</td>\n",
              "      <td>$20200</td>\n",
              "    </tr>\n",
              "  </tbody>\n",
              "</table>\n",
              "</div>"
            ],
            "text/plain": [
              "               Name  Age       Course       Sport  Amount\n",
              "0      Ibrahim Musa   24      Physics    Football  $20000\n",
              "1        Emeka Jude   25   Statistics  Volleyball  $25000\n",
              "2  Emmanuel Ayomide   27  Mathematics     Swiming  $20000\n",
              "3        Nnamdi Ike   24    Chemistry  Basketball  $20200"
            ]
          },
          "metadata": {
            "tags": []
          },
          "execution_count": 51
        }
      ]
    },
    {
      "cell_type": "code",
      "metadata": {
        "colab": {
          "base_uri": "https://localhost:8080/"
        },
        "id": "NW4WKySHgmLa",
        "outputId": "200c465b-693e-4052-d03e-4220624f0093"
      },
      "source": [
        "df['Name'].str.split(' ')"
      ],
      "execution_count": 53,
      "outputs": [
        {
          "output_type": "execute_result",
          "data": {
            "text/plain": [
              "0        [Ibrahim, Musa]\n",
              "1          [Emeka, Jude]\n",
              "2    [Emmanuel, Ayomide]\n",
              "3          [Nnamdi, Ike]\n",
              "Name: Name, dtype: object"
            ]
          },
          "metadata": {
            "tags": []
          },
          "execution_count": 53
        }
      ]
    },
    {
      "cell_type": "code",
      "metadata": {
        "colab": {
          "base_uri": "https://localhost:8080/"
        },
        "id": "8alPs_jYg4Zd",
        "outputId": "6f7bb0ab-9d81-4608-d537-3a36301f0242"
      },
      "source": [
        "#To get the first elements of each, we use the .get(0) method\n",
        "df['Name'].str.split(' ').str.get(0)"
      ],
      "execution_count": 55,
      "outputs": [
        {
          "output_type": "execute_result",
          "data": {
            "text/plain": [
              "0     Ibrahim\n",
              "1       Emeka\n",
              "2    Emmanuel\n",
              "3      Nnamdi\n",
              "Name: Name, dtype: object"
            ]
          },
          "metadata": {
            "tags": []
          },
          "execution_count": 55
        }
      ]
    },
    {
      "cell_type": "code",
      "metadata": {
        "id": "zgcfFxRNhvBa"
      },
      "source": [
        "df[['First Name', 'Last Name']] = df['Name'].str.split(' ', expand=True)\n",
        "#The expand=True helps us return a Pandas dataframe"
      ],
      "execution_count": 69,
      "outputs": []
    },
    {
      "cell_type": "code",
      "metadata": {
        "colab": {
          "base_uri": "https://localhost:8080/",
          "height": 175
        },
        "id": "amaQugDWiH3V",
        "outputId": "ee931bbf-162a-4def-d923-02692361abb1"
      },
      "source": [
        "df.head()"
      ],
      "execution_count": 71,
      "outputs": [
        {
          "output_type": "execute_result",
          "data": {
            "text/html": [
              "<div>\n",
              "<style scoped>\n",
              "    .dataframe tbody tr th:only-of-type {\n",
              "        vertical-align: middle;\n",
              "    }\n",
              "\n",
              "    .dataframe tbody tr th {\n",
              "        vertical-align: top;\n",
              "    }\n",
              "\n",
              "    .dataframe thead th {\n",
              "        text-align: right;\n",
              "    }\n",
              "</style>\n",
              "<table border=\"1\" class=\"dataframe\">\n",
              "  <thead>\n",
              "    <tr style=\"text-align: right;\">\n",
              "      <th></th>\n",
              "      <th>Name</th>\n",
              "      <th>Age</th>\n",
              "      <th>Course</th>\n",
              "      <th>Sport</th>\n",
              "      <th>Amount</th>\n",
              "      <th>First Name</th>\n",
              "      <th>Last Name</th>\n",
              "    </tr>\n",
              "  </thead>\n",
              "  <tbody>\n",
              "    <tr>\n",
              "      <th>0</th>\n",
              "      <td>Ibrahim Musa</td>\n",
              "      <td>24</td>\n",
              "      <td>Physics</td>\n",
              "      <td>Football</td>\n",
              "      <td>$20000</td>\n",
              "      <td>Ibrahim</td>\n",
              "      <td>Musa</td>\n",
              "    </tr>\n",
              "    <tr>\n",
              "      <th>1</th>\n",
              "      <td>Emeka Jude</td>\n",
              "      <td>25</td>\n",
              "      <td>Statistics</td>\n",
              "      <td>Volleyball</td>\n",
              "      <td>$25000</td>\n",
              "      <td>Emeka</td>\n",
              "      <td>Jude</td>\n",
              "    </tr>\n",
              "    <tr>\n",
              "      <th>2</th>\n",
              "      <td>Emmanuel Ayomide</td>\n",
              "      <td>27</td>\n",
              "      <td>Mathematics</td>\n",
              "      <td>Swiming</td>\n",
              "      <td>$20000</td>\n",
              "      <td>Emmanuel</td>\n",
              "      <td>Ayomide</td>\n",
              "    </tr>\n",
              "    <tr>\n",
              "      <th>3</th>\n",
              "      <td>Nnamdi Ike</td>\n",
              "      <td>24</td>\n",
              "      <td>Chemistry</td>\n",
              "      <td>Basketball</td>\n",
              "      <td>$20200</td>\n",
              "      <td>Nnamdi</td>\n",
              "      <td>Ike</td>\n",
              "    </tr>\n",
              "  </tbody>\n",
              "</table>\n",
              "</div>"
            ],
            "text/plain": [
              "               Name  Age       Course       Sport  Amount First Name Last Name\n",
              "0      Ibrahim Musa   24      Physics    Football  $20000    Ibrahim      Musa\n",
              "1        Emeka Jude   25   Statistics  Volleyball  $25000      Emeka      Jude\n",
              "2  Emmanuel Ayomide   27  Mathematics     Swiming  $20000   Emmanuel   Ayomide\n",
              "3        Nnamdi Ike   24    Chemistry  Basketball  $20200     Nnamdi       Ike"
            ]
          },
          "metadata": {
            "tags": []
          },
          "execution_count": 71
        }
      ]
    },
    {
      "cell_type": "code",
      "metadata": {
        "colab": {
          "base_uri": "https://localhost:8080/"
        },
        "id": "okv5nRMRjPQE",
        "outputId": "7b9c5c49-7f70-4127-94c7-c339483449e9"
      },
      "source": [
        "df['Amount'].str.replace('$', '')"
      ],
      "execution_count": 76,
      "outputs": [
        {
          "output_type": "execute_result",
          "data": {
            "text/plain": [
              "0    20000\n",
              "1    25000\n",
              "2    20000\n",
              "3    20200\n",
              "Name: Amount, dtype: object"
            ]
          },
          "metadata": {
            "tags": []
          },
          "execution_count": 76
        }
      ]
    },
    {
      "cell_type": "code",
      "metadata": {
        "colab": {
          "base_uri": "https://localhost:8080/"
        },
        "id": "TwBBUFXZjqFd",
        "outputId": "b20b3a88-f0c1-4a32-83c1-a86f29af2782"
      },
      "source": [
        "#The next thing to do is to convert it into a float. Then and only then can we add up the figures together\n",
        "\n",
        "df['Amount'].str.replace('$', '').astype(float)"
      ],
      "execution_count": 79,
      "outputs": [
        {
          "output_type": "execute_result",
          "data": {
            "text/plain": [
              "0    20000.0\n",
              "1    25000.0\n",
              "2    20000.0\n",
              "3    20200.0\n",
              "Name: Amount, dtype: float64"
            ]
          },
          "metadata": {
            "tags": []
          },
          "execution_count": 79
        }
      ]
    },
    {
      "cell_type": "code",
      "metadata": {
        "colab": {
          "base_uri": "https://localhost:8080/"
        },
        "id": "Ijrnmff7kOmY",
        "outputId": "1e7c4b72-676d-4bb0-9273-f0342b2634c5"
      },
      "source": [
        "df['Amount'].str.replace('$', '').astype(float).sum()"
      ],
      "execution_count": 80,
      "outputs": [
        {
          "output_type": "execute_result",
          "data": {
            "text/plain": [
              "85200.0"
            ]
          },
          "metadata": {
            "tags": []
          },
          "execution_count": 80
        }
      ]
    },
    {
      "cell_type": "markdown",
      "metadata": {
        "id": "gSkBGsIAmzvu"
      },
      "source": [
        "###Checking for Patterns in Data\n",
        "Count - Returns count of appearance of pattern in each element\n",
        "Startswith - Returns true if the element in the series starts with the pattern\n",
        "Endswith - Returns true if the element in the serie ends with the pattern\n",
        "Find - Returns the first position of the first occurence of the pattern\n",
        "Findall - Returns a list of all occurence of the pattern"
      ]
    },
    {
      "cell_type": "code",
      "metadata": {
        "colab": {
          "base_uri": "https://localhost:8080/",
          "height": 175
        },
        "id": "Fgdszs7Jn1rH",
        "outputId": "3c6dd7ee-0edb-4aee-95ea-3fa9d8e2abf9"
      },
      "source": [
        "df"
      ],
      "execution_count": 81,
      "outputs": [
        {
          "output_type": "execute_result",
          "data": {
            "text/html": [
              "<div>\n",
              "<style scoped>\n",
              "    .dataframe tbody tr th:only-of-type {\n",
              "        vertical-align: middle;\n",
              "    }\n",
              "\n",
              "    .dataframe tbody tr th {\n",
              "        vertical-align: top;\n",
              "    }\n",
              "\n",
              "    .dataframe thead th {\n",
              "        text-align: right;\n",
              "    }\n",
              "</style>\n",
              "<table border=\"1\" class=\"dataframe\">\n",
              "  <thead>\n",
              "    <tr style=\"text-align: right;\">\n",
              "      <th></th>\n",
              "      <th>Name</th>\n",
              "      <th>Age</th>\n",
              "      <th>Course</th>\n",
              "      <th>Sport</th>\n",
              "      <th>Amount</th>\n",
              "      <th>First Name</th>\n",
              "      <th>Last Name</th>\n",
              "    </tr>\n",
              "  </thead>\n",
              "  <tbody>\n",
              "    <tr>\n",
              "      <th>0</th>\n",
              "      <td>Ibrahim Musa</td>\n",
              "      <td>24</td>\n",
              "      <td>Physics</td>\n",
              "      <td>Football</td>\n",
              "      <td>$20000</td>\n",
              "      <td>Ibrahim</td>\n",
              "      <td>Musa</td>\n",
              "    </tr>\n",
              "    <tr>\n",
              "      <th>1</th>\n",
              "      <td>Emeka Jude</td>\n",
              "      <td>25</td>\n",
              "      <td>Statistics</td>\n",
              "      <td>Volleyball</td>\n",
              "      <td>$25000</td>\n",
              "      <td>Emeka</td>\n",
              "      <td>Jude</td>\n",
              "    </tr>\n",
              "    <tr>\n",
              "      <th>2</th>\n",
              "      <td>Emmanuel Ayomide</td>\n",
              "      <td>27</td>\n",
              "      <td>Mathematics</td>\n",
              "      <td>Swiming</td>\n",
              "      <td>$20000</td>\n",
              "      <td>Emmanuel</td>\n",
              "      <td>Ayomide</td>\n",
              "    </tr>\n",
              "    <tr>\n",
              "      <th>3</th>\n",
              "      <td>Nnamdi Ike</td>\n",
              "      <td>24</td>\n",
              "      <td>Chemistry</td>\n",
              "      <td>Basketball</td>\n",
              "      <td>$20200</td>\n",
              "      <td>Nnamdi</td>\n",
              "      <td>Ike</td>\n",
              "    </tr>\n",
              "  </tbody>\n",
              "</table>\n",
              "</div>"
            ],
            "text/plain": [
              "               Name  Age       Course       Sport  Amount First Name Last Name\n",
              "0      Ibrahim Musa   24      Physics    Football  $20000    Ibrahim      Musa\n",
              "1        Emeka Jude   25   Statistics  Volleyball  $25000      Emeka      Jude\n",
              "2  Emmanuel Ayomide   27  Mathematics     Swiming  $20000   Emmanuel   Ayomide\n",
              "3        Nnamdi Ike   24    Chemistry  Basketball  $20200     Nnamdi       Ike"
            ]
          },
          "metadata": {
            "tags": []
          },
          "execution_count": 81
        }
      ]
    },
    {
      "cell_type": "code",
      "metadata": {
        "colab": {
          "base_uri": "https://localhost:8080/"
        },
        "id": "aXlH4kmxoKNm",
        "outputId": "ecc6a201-b61d-426a-ff85-b79621b9b139"
      },
      "source": [
        "df['Name'].str.lower().str.count('e')"
      ],
      "execution_count": 83,
      "outputs": [
        {
          "output_type": "execute_result",
          "data": {
            "text/plain": [
              "0    0\n",
              "1    3\n",
              "2    3\n",
              "3    1\n",
              "Name: Name, dtype: int64"
            ]
          },
          "metadata": {
            "tags": []
          },
          "execution_count": 83
        }
      ]
    },
    {
      "cell_type": "code",
      "metadata": {
        "colab": {
          "base_uri": "https://localhost:8080/"
        },
        "id": "rFm-PjyCobXg",
        "outputId": "649981fa-a294-4e7a-a88e-8c6c34cd54c2"
      },
      "source": [
        "df['Name'].str.lower().str.startswith('e')"
      ],
      "execution_count": 84,
      "outputs": [
        {
          "output_type": "execute_result",
          "data": {
            "text/plain": [
              "0    False\n",
              "1     True\n",
              "2     True\n",
              "3    False\n",
              "Name: Name, dtype: bool"
            ]
          },
          "metadata": {
            "tags": []
          },
          "execution_count": 84
        }
      ]
    }
  ]
}