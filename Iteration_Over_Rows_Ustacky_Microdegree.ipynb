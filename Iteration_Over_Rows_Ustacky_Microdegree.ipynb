{
  "nbformat": 4,
  "nbformat_minor": 0,
  "metadata": {
    "colab": {
      "name": "Iteration_Over_Rows_Ustacky_Microdegree.ipynb",
      "provenance": [],
      "collapsed_sections": [],
      "authorship_tag": "ABX9TyPm+CuSA7OZgW0MbKrBtM0y",
      "include_colab_link": true
    },
    "kernelspec": {
      "name": "python3",
      "display_name": "Python 3"
    },
    "language_info": {
      "name": "python"
    }
  },
  "cells": [
    {
      "cell_type": "markdown",
      "metadata": {
        "id": "view-in-github",
        "colab_type": "text"
      },
      "source": [
        "<a href=\"https://colab.research.google.com/github/Oreoluwa99/demo_test/blob/main/Iteration_Over_Rows_Ustacky_Microdegree.ipynb\" target=\"_parent\"><img src=\"https://colab.research.google.com/assets/colab-badge.svg\" alt=\"Open In Colab\"/></a>"
      ]
    },
    {
      "cell_type": "code",
      "metadata": {
        "id": "qB0JGA7QuQcG"
      },
      "source": [
        "import pandas as pd\n",
        "import numpy as np\n",
        "import time\n"
      ],
      "execution_count": 1,
      "outputs": []
    },
    {
      "cell_type": "code",
      "metadata": {
        "colab": {
          "resources": {
            "http://localhost:8080/nbextensions/google.colab/files.js": {
              "data": "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",
              "ok": true,
              "headers": [
                [
                  "content-type",
                  "application/javascript"
                ]
              ],
              "status": 200,
              "status_text": "OK"
            }
          },
          "base_uri": "https://localhost:8080/",
          "height": 77
        },
        "id": "fVSRZxi1uZE1",
        "outputId": "a891fc22-d522-4bcb-8934-1050fc6a5820"
      },
      "source": [
        "from google.colab import files\n",
        "uploaded = files.upload()"
      ],
      "execution_count": 3,
      "outputs": [
        {
          "output_type": "display_data",
          "data": {
            "text/html": [
              "\n",
              "     <input type=\"file\" id=\"files-7576d99a-d391-4e3d-82ea-ac7a1f7e6499\" name=\"files[]\" multiple disabled\n",
              "        style=\"border:none\" />\n",
              "     <output id=\"result-7576d99a-d391-4e3d-82ea-ac7a1f7e6499\">\n",
              "      Upload widget is only available when the cell has been executed in the\n",
              "      current browser session. Please rerun this cell to enable.\n",
              "      </output>\n",
              "      <script src=\"/nbextensions/google.colab/files.js\"></script> "
            ],
            "text/plain": [
              "<IPython.core.display.HTML object>"
            ]
          },
          "metadata": {
            "tags": []
          }
        },
        {
          "output_type": "stream",
          "text": [
            "Saving students - students.csv to students - students.csv\n"
          ],
          "name": "stdout"
        }
      ]
    },
    {
      "cell_type": "code",
      "metadata": {
        "id": "T5r0OiNHu8xa"
      },
      "source": [
        "df = pd.read_csv('students - students.csv')"
      ],
      "execution_count": 4,
      "outputs": []
    },
    {
      "cell_type": "code",
      "metadata": {
        "id": "EZJQwR9yvE7r"
      },
      "source": [
        "dff = df.iloc[0:5, 0:3]"
      ],
      "execution_count": 7,
      "outputs": []
    },
    {
      "cell_type": "code",
      "metadata": {
        "colab": {
          "base_uri": "https://localhost:8080/",
          "height": 206
        },
        "id": "PjIZwzlywLUZ",
        "outputId": "f1d548ae-c7e7-48f0-f2a9-4f012c877508"
      },
      "source": [
        "dff"
      ],
      "execution_count": 11,
      "outputs": [
        {
          "output_type": "execute_result",
          "data": {
            "text/html": [
              "<div>\n",
              "<style scoped>\n",
              "    .dataframe tbody tr th:only-of-type {\n",
              "        vertical-align: middle;\n",
              "    }\n",
              "\n",
              "    .dataframe tbody tr th {\n",
              "        vertical-align: top;\n",
              "    }\n",
              "\n",
              "    .dataframe thead th {\n",
              "        text-align: right;\n",
              "    }\n",
              "</style>\n",
              "<table border=\"1\" class=\"dataframe\">\n",
              "  <thead>\n",
              "    <tr style=\"text-align: right;\">\n",
              "      <th></th>\n",
              "      <th>name</th>\n",
              "      <th>age</th>\n",
              "      <th>sport</th>\n",
              "    </tr>\n",
              "  </thead>\n",
              "  <tbody>\n",
              "    <tr>\n",
              "      <th>0</th>\n",
              "      <td>Emmanuel Ayomide</td>\n",
              "      <td>27</td>\n",
              "      <td>Football</td>\n",
              "    </tr>\n",
              "    <tr>\n",
              "      <th>1</th>\n",
              "      <td>Ibrahim Musa</td>\n",
              "      <td>24</td>\n",
              "      <td>Football</td>\n",
              "    </tr>\n",
              "    <tr>\n",
              "      <th>2</th>\n",
              "      <td>Sesan Obi</td>\n",
              "      <td>24</td>\n",
              "      <td>Swimming</td>\n",
              "    </tr>\n",
              "    <tr>\n",
              "      <th>3</th>\n",
              "      <td>Kevin Frank</td>\n",
              "      <td>25</td>\n",
              "      <td>Tennis</td>\n",
              "    </tr>\n",
              "    <tr>\n",
              "      <th>4</th>\n",
              "      <td>Emeka Jude</td>\n",
              "      <td>24</td>\n",
              "      <td>Basketball</td>\n",
              "    </tr>\n",
              "  </tbody>\n",
              "</table>\n",
              "</div>"
            ],
            "text/plain": [
              "               name  age       sport\n",
              "0  Emmanuel Ayomide   27    Football\n",
              "1      Ibrahim Musa   24    Football\n",
              "2         Sesan Obi   24    Swimming\n",
              "3       Kevin Frank   25      Tennis\n",
              "4        Emeka Jude   24  Basketball"
            ]
          },
          "metadata": {
            "tags": []
          },
          "execution_count": 11
        }
      ]
    },
    {
      "cell_type": "code",
      "metadata": {
        "colab": {
          "base_uri": "https://localhost:8080/"
        },
        "id": "15obO5wN8XAp",
        "outputId": "6f8e47ac-ab4b-4472-c51c-3feb9ee284b7"
      },
      "source": [
        "#We'll make use of the for loop to check out and return results for each row\n",
        "\n",
        "start= time.time() #This records the time before it the code started running\n",
        "\n",
        "for row_label, row in dff.iterrows():\n",
        "  print(row_label, row, sep='\\n', end='\\n')\n",
        "print('Total time is {}'.format(time.time()-start))"
      ],
      "execution_count": 17,
      "outputs": [
        {
          "output_type": "stream",
          "text": [
            "0\n",
            "name     Emmanuel Ayomide\n",
            "age                    27\n",
            "sport            Football\n",
            "Name: 0, dtype: object\n",
            "1\n",
            "name     Ibrahim Musa\n",
            "age                24\n",
            "sport        Football\n",
            "Name: 1, dtype: object\n",
            "2\n",
            "name     Sesan Obi\n",
            "age             24\n",
            "sport     Swimming\n",
            "Name: 2, dtype: object\n",
            "3\n",
            "name     Kevin Frank\n",
            "age               25\n",
            "sport         Tennis\n",
            "Name: 3, dtype: object\n",
            "4\n",
            "name     Emeka Jude\n",
            "age              24\n",
            "sport    Basketball\n",
            "Name: 4, dtype: object\n",
            "Total time is 0.007578611373901367\n"
          ],
          "name": "stdout"
        }
      ]
    },
    {
      "cell_type": "code",
      "metadata": {
        "colab": {
          "base_uri": "https://localhost:8080/"
        },
        "id": "6rJE0UPG_euT",
        "outputId": "0a811c15-d068-4ab8-8f9f-acb772dc166c"
      },
      "source": [
        "#Executing for iterturples\n",
        "\n",
        "#We'll make use of the for loop to check out and return results for each row\n",
        "\n",
        "start= time.time() #This records the time before it the code started running\n",
        "\n",
        "for row in dff.itertuples():\n",
        "  print(row_label, row, sep='\\n', end='\\n')\n",
        "print('Total time is {}'.format(time.time()-start))"
      ],
      "execution_count": 18,
      "outputs": [
        {
          "output_type": "stream",
          "text": [
            "4\n",
            "Pandas(Index=0, name='Emmanuel Ayomide', age=27, sport='Football')\n",
            "4\n",
            "Pandas(Index=1, name='Ibrahim Musa', age=24, sport='Football')\n",
            "4\n",
            "Pandas(Index=2, name='Sesan Obi', age=24, sport='Swimming')\n",
            "4\n",
            "Pandas(Index=3, name='Kevin Frank', age=25, sport='Tennis')\n",
            "4\n",
            "Pandas(Index=4, name='Emeka Jude', age=24, sport='Basketball')\n",
            "Total time is 0.004667043685913086\n"
          ],
          "name": "stdout"
        }
      ]
    },
    {
      "cell_type": "code",
      "metadata": {
        "colab": {
          "base_uri": "https://localhost:8080/"
        },
        "id": "KOPagyHZ_37M",
        "outputId": "ec95214d-f74d-4e4b-a41c-7f3fb18be85d"
      },
      "source": [
        "#Checking with the whole dataset and not just the chunk now\n",
        "\n",
        "#We'll make use of the for loop to check out and return results for each row\n",
        "\n",
        "start= time.time() #This records the time before it the code started running\n",
        "\n",
        "for row_label, row in df.iterrows():\n",
        "  print(row_label, row, sep='\\n', end='\\n')\n",
        "print('Total time is {}'.format(time.time()-start))"
      ],
      "execution_count": 19,
      "outputs": [
        {
          "output_type": "stream",
          "text": [
            "0\n",
            "name             Emmanuel Ayomide\n",
            "age                            27\n",
            "sport                    Football\n",
            "Biology_score                  73\n",
            "Maths_score                    58\n",
            "English_score                  65\n",
            "Name: 0, dtype: object\n",
            "1\n",
            "name             Ibrahim Musa\n",
            "age                        24\n",
            "sport                Football\n",
            "Biology_score              92\n",
            "Maths_score                56\n",
            "English_score              80\n",
            "Name: 1, dtype: object\n",
            "2\n",
            "name             Sesan Obi\n",
            "age                     24\n",
            "sport             Swimming\n",
            "Biology_score           67\n",
            "Maths_score             95\n",
            "English_score           71\n",
            "Name: 2, dtype: object\n",
            "3\n",
            "name             Kevin Frank\n",
            "age                       25\n",
            "sport                 Tennis\n",
            "Biology_score             53\n",
            "Maths_score               85\n",
            "English_score             74\n",
            "Name: 3, dtype: object\n",
            "4\n",
            "name             Emeka Jude\n",
            "age                      24\n",
            "sport            Basketball\n",
            "Biology_score            86\n",
            "Maths_score              80\n",
            "English_score            93\n",
            "Name: 4, dtype: object\n",
            "5\n",
            "name             Caroline Obi\n",
            "age                        27\n",
            "sport              Basketball\n",
            "Biology_score              92\n",
            "Maths_score                71\n",
            "English_score              79\n",
            "Name: 5, dtype: object\n",
            "6\n",
            "name             Franklin Oladele\n",
            "age                            18\n",
            "sport                    Football\n",
            "Biology_score                  96\n",
            "Maths_score                   NaN\n",
            "English_score                  70\n",
            "Name: 6, dtype: object\n",
            "7\n",
            "name             Kola Ola\n",
            "age                    28\n",
            "sport            Swimming\n",
            "Biology_score          82\n",
            "Maths_score            95\n",
            "English_score          58\n",
            "Name: 7, dtype: object\n",
            "8\n",
            "name             Emmanuel Ovi\n",
            "age                        23\n",
            "sport                  Tennis\n",
            "Biology_score              79\n",
            "Maths_score                61\n",
            "English_score              68\n",
            "Name: 8, dtype: object\n",
            "9\n",
            "name             Kareem Musa\n",
            "age                       24\n",
            "sport               Football\n",
            "Biology_score             78\n",
            "Maths_score               73\n",
            "English_score             86\n",
            "Name: 9, dtype: object\n",
            "10\n",
            "name             Mustapha Ahmed\n",
            "age                          24\n",
            "sport                       NaN\n",
            "Biology_score                88\n",
            "Maths_score                  84\n",
            "English_score               NaN\n",
            "Name: 10, dtype: object\n",
            "11\n",
            "name             Femi Akin\n",
            "age                     24\n",
            "sport               Tennis\n",
            "Biology_score           90\n",
            "Maths_score             97\n",
            "English_score           85\n",
            "Name: 11, dtype: object\n",
            "12\n",
            "name             Tobi Olaniyan\n",
            "age                         22\n",
            "sport               Volleyball\n",
            "Biology_score               51\n",
            "Maths_score                 79\n",
            "English_score               84\n",
            "Name: 12, dtype: object\n",
            "13\n",
            "name             Kayode Ibrahim\n",
            "age                          25\n",
            "sport                  Football\n",
            "Biology_score                58\n",
            "Maths_score                  67\n",
            "English_score                84\n",
            "Name: 13, dtype: object\n",
            "14\n",
            "name             Nnamdi Ike\n",
            "age                      26\n",
            "sport              Swimming\n",
            "Biology_score           NaN\n",
            "Maths_score              62\n",
            "English_score            88\n",
            "Name: 14, dtype: object\n",
            "15\n",
            "name             Ahmed Musa\n",
            "age                      24\n",
            "sport              Football\n",
            "Biology_score            60\n",
            "Maths_score              90\n",
            "English_score            81\n",
            "Name: 15, dtype: object\n",
            "16\n",
            "name             Kevin Frank\n",
            "age                       25\n",
            "sport                 Tennis\n",
            "Biology_score             53\n",
            "Maths_score               85\n",
            "English_score             74\n",
            "Name: 16, dtype: object\n",
            "17\n",
            "name             Susan James\n",
            "age                       27\n",
            "sport             Volleyball\n",
            "Biology_score             76\n",
            "Maths_score               69\n",
            "English_score             54\n",
            "Name: 17, dtype: object\n",
            "18\n",
            "name             Zainab Mohammed\n",
            "age                           25\n",
            "sport                 Basketball\n",
            "Biology_score                 64\n",
            "Maths_score                   95\n",
            "English_score                 94\n",
            "Name: 18, dtype: object\n",
            "19\n",
            "name             Sesan Obi\n",
            "age                     26\n",
            "sport             Swimming\n",
            "Biology_score           67\n",
            "Maths_score             95\n",
            "English_score           71\n",
            "Name: 19, dtype: object\n",
            "Total time is 0.03170442581176758\n"
          ],
          "name": "stdout"
        }
      ]
    },
    {
      "cell_type": "code",
      "metadata": {
        "colab": {
          "base_uri": "https://localhost:8080/"
        },
        "id": "uyo_AieCAEIs",
        "outputId": "f2d89e98-ded3-48fe-94a6-f90866e55d0c"
      },
      "source": [
        "#We'll make use of the for loop to check out and return results for each row\n",
        "\n",
        "start= time.time() #This records the time before it the code started running\n",
        "\n",
        "for row in dff.itertuples():\n",
        "  print(row_label, row, sep='\\n', end='\\n')\n",
        "print('Total time is {}'.format(time.time()-start))"
      ],
      "execution_count": 20,
      "outputs": [
        {
          "output_type": "stream",
          "text": [
            "19\n",
            "Pandas(Index=0, name='Emmanuel Ayomide', age=27, sport='Football')\n",
            "19\n",
            "Pandas(Index=1, name='Ibrahim Musa', age=24, sport='Football')\n",
            "19\n",
            "Pandas(Index=2, name='Sesan Obi', age=24, sport='Swimming')\n",
            "19\n",
            "Pandas(Index=3, name='Kevin Frank', age=25, sport='Tennis')\n",
            "19\n",
            "Pandas(Index=4, name='Emeka Jude', age=24, sport='Basketball')\n",
            "Total time is 0.008860111236572266\n"
          ],
          "name": "stdout"
        }
      ]
    },
    {
      "cell_type": "code",
      "metadata": {
        "id": "M_g6JDBIBSix"
      },
      "source": [
        "\n",
        "\n",
        "\n",
        "\n",
        "\n",
        "#Iterating over pandas dataframe columns now\n",
        "\n"
      ],
      "execution_count": null,
      "outputs": []
    },
    {
      "cell_type": "code",
      "metadata": {
        "colab": {
          "base_uri": "https://localhost:8080/",
          "height": 206
        },
        "id": "h4tYGC3lBYcH",
        "outputId": "2513b1c2-c719-4180-a110-7365dcbd49b4"
      },
      "source": [
        "dff"
      ],
      "execution_count": 21,
      "outputs": [
        {
          "output_type": "execute_result",
          "data": {
            "text/html": [
              "<div>\n",
              "<style scoped>\n",
              "    .dataframe tbody tr th:only-of-type {\n",
              "        vertical-align: middle;\n",
              "    }\n",
              "\n",
              "    .dataframe tbody tr th {\n",
              "        vertical-align: top;\n",
              "    }\n",
              "\n",
              "    .dataframe thead th {\n",
              "        text-align: right;\n",
              "    }\n",
              "</style>\n",
              "<table border=\"1\" class=\"dataframe\">\n",
              "  <thead>\n",
              "    <tr style=\"text-align: right;\">\n",
              "      <th></th>\n",
              "      <th>name</th>\n",
              "      <th>age</th>\n",
              "      <th>sport</th>\n",
              "    </tr>\n",
              "  </thead>\n",
              "  <tbody>\n",
              "    <tr>\n",
              "      <th>0</th>\n",
              "      <td>Emmanuel Ayomide</td>\n",
              "      <td>27</td>\n",
              "      <td>Football</td>\n",
              "    </tr>\n",
              "    <tr>\n",
              "      <th>1</th>\n",
              "      <td>Ibrahim Musa</td>\n",
              "      <td>24</td>\n",
              "      <td>Football</td>\n",
              "    </tr>\n",
              "    <tr>\n",
              "      <th>2</th>\n",
              "      <td>Sesan Obi</td>\n",
              "      <td>24</td>\n",
              "      <td>Swimming</td>\n",
              "    </tr>\n",
              "    <tr>\n",
              "      <th>3</th>\n",
              "      <td>Kevin Frank</td>\n",
              "      <td>25</td>\n",
              "      <td>Tennis</td>\n",
              "    </tr>\n",
              "    <tr>\n",
              "      <th>4</th>\n",
              "      <td>Emeka Jude</td>\n",
              "      <td>24</td>\n",
              "      <td>Basketball</td>\n",
              "    </tr>\n",
              "  </tbody>\n",
              "</table>\n",
              "</div>"
            ],
            "text/plain": [
              "               name  age       sport\n",
              "0  Emmanuel Ayomide   27    Football\n",
              "1      Ibrahim Musa   24    Football\n",
              "2         Sesan Obi   24    Swimming\n",
              "3       Kevin Frank   25      Tennis\n",
              "4        Emeka Jude   24  Basketball"
            ]
          },
          "metadata": {
            "tags": []
          },
          "execution_count": 21
        }
      ]
    },
    {
      "cell_type": "code",
      "metadata": {
        "colab": {
          "base_uri": "https://localhost:8080/"
        },
        "id": "kuflXnK1BeCm",
        "outputId": "a8eecd41-c4e8-4d43-e100-e5b16edfd84e"
      },
      "source": [
        "for col_label, col in dff.iteritems():\n",
        "  print(col_label, col, sep='\\n', end='\\n')"
      ],
      "execution_count": 23,
      "outputs": [
        {
          "output_type": "stream",
          "text": [
            "name\n",
            "0    Emmanuel Ayomide\n",
            "1        Ibrahim Musa\n",
            "2           Sesan Obi\n",
            "3         Kevin Frank\n",
            "4          Emeka Jude\n",
            "Name: name, dtype: object\n",
            "age\n",
            "0    27\n",
            "1    24\n",
            "2    24\n",
            "3    25\n",
            "4    24\n",
            "Name: age, dtype: int64\n",
            "sport\n",
            "0      Football\n",
            "1      Football\n",
            "2      Swimming\n",
            "3        Tennis\n",
            "4    Basketball\n",
            "Name: sport, dtype: object\n"
          ],
          "name": "stdout"
        }
      ]
    },
    {
      "cell_type": "code",
      "metadata": {
        "colab": {
          "base_uri": "https://localhost:8080/"
        },
        "id": "g2Og56qGB_NA",
        "outputId": "06098470-79a0-423f-e0e4-ce5cbba0433c"
      },
      "source": [
        "#.item could also work just fine\n",
        "for col_label, col in dff.items():\n",
        "  print(col_label, col, sep='\\n', end='\\n')"
      ],
      "execution_count": 24,
      "outputs": [
        {
          "output_type": "stream",
          "text": [
            "name\n",
            "0    Emmanuel Ayomide\n",
            "1        Ibrahim Musa\n",
            "2           Sesan Obi\n",
            "3         Kevin Frank\n",
            "4          Emeka Jude\n",
            "Name: name, dtype: object\n",
            "age\n",
            "0    27\n",
            "1    24\n",
            "2    24\n",
            "3    25\n",
            "4    24\n",
            "Name: age, dtype: int64\n",
            "sport\n",
            "0      Football\n",
            "1      Football\n",
            "2      Swimming\n",
            "3        Tennis\n",
            "4    Basketball\n",
            "Name: sport, dtype: object\n"
          ],
          "name": "stdout"
        }
      ]
    }
  ]
}