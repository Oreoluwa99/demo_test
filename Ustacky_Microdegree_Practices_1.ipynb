{
  "nbformat": 4,
  "nbformat_minor": 0,
  "metadata": {
    "colab": {
      "name": "Ustacky_MD.ipynb",
      "provenance": [],
      "authorship_tag": "ABX9TyPMb7aDruxGHvVNmwER3Te9",
      "include_colab_link": true
    },
    "kernelspec": {
      "name": "python3",
      "display_name": "Python 3"
    },
    "language_info": {
      "name": "python"
    }
  },
  "cells": [
    {
      "cell_type": "markdown",
      "metadata": {
        "id": "view-in-github",
        "colab_type": "text"
      },
      "source": [
        "<a href=\"https://colab.research.google.com/github/Oreoluwa99/demo_test/blob/main/Ustacky_Microdegree_Practices_1.ipynb\" target=\"_parent\"><img src=\"https://colab.research.google.com/assets/colab-badge.svg\" alt=\"Open In Colab\"/></a>"
      ]
    },
    {
      "cell_type": "code",
      "metadata": {
        "id": "4dG1_AF2pLv1"
      },
      "source": [
        "import numpy as np"
      ],
      "execution_count": 1,
      "outputs": []
    },
    {
      "cell_type": "code",
      "metadata": {
        "id": "egMTcTitqP7D"
      },
      "source": [
        "a_list = [1,2,3]"
      ],
      "execution_count": 2,
      "outputs": []
    },
    {
      "cell_type": "code",
      "metadata": {
        "id": "4jsYUBmSqfaY"
      },
      "source": [
        "array = np.array(a_list)"
      ],
      "execution_count": 4,
      "outputs": []
    },
    {
      "cell_type": "code",
      "metadata": {
        "colab": {
          "base_uri": "https://localhost:8080/"
        },
        "id": "7KYI3nA5qrma",
        "outputId": "1e2cf205-c650-42bf-f91c-8dafd1741aca"
      },
      "source": [
        "array"
      ],
      "execution_count": 5,
      "outputs": [
        {
          "output_type": "execute_result",
          "data": {
            "text/plain": [
              "array([1, 2, 3])"
            ]
          },
          "metadata": {
            "tags": []
          },
          "execution_count": 5
        }
      ]
    },
    {
      "cell_type": "code",
      "metadata": {
        "id": "19U2vKa8rIdB"
      },
      "source": [
        "a_list = [(1,2,3), (4,5,6), (7,8,9)]"
      ],
      "execution_count": 6,
      "outputs": []
    },
    {
      "cell_type": "code",
      "metadata": {
        "id": "Kcdi5b1grRUR"
      },
      "source": [
        "array2 = np.array(a_list)"
      ],
      "execution_count": 8,
      "outputs": []
    },
    {
      "cell_type": "code",
      "metadata": {
        "colab": {
          "base_uri": "https://localhost:8080/"
        },
        "id": "NdjSpsrIrbMy",
        "outputId": "60a894ff-396e-4bf7-addc-d6768844377f"
      },
      "source": [
        "array2"
      ],
      "execution_count": 9,
      "outputs": [
        {
          "output_type": "execute_result",
          "data": {
            "text/plain": [
              "array([[1, 2, 3],\n",
              "       [4, 5, 6],\n",
              "       [7, 8, 9]])"
            ]
          },
          "metadata": {
            "tags": []
          },
          "execution_count": 9
        }
      ]
    },
    {
      "cell_type": "code",
      "metadata": {
        "id": "icoax8HOru2Z"
      },
      "source": [
        "arr = np.zeros(2)"
      ],
      "execution_count": 14,
      "outputs": []
    },
    {
      "cell_type": "code",
      "metadata": {
        "colab": {
          "base_uri": "https://localhost:8080/"
        },
        "id": "5Nm1lbLAr3bS",
        "outputId": "76a36eae-257d-4421-a14d-80e4755cf0f5"
      },
      "source": [
        "arr"
      ],
      "execution_count": 15,
      "outputs": [
        {
          "output_type": "execute_result",
          "data": {
            "text/plain": [
              "array([0., 0.])"
            ]
          },
          "metadata": {
            "tags": []
          },
          "execution_count": 15
        }
      ]
    },
    {
      "cell_type": "code",
      "metadata": {
        "id": "Zwhg9pUYsRxn"
      },
      "source": [
        "arr2 = np.zeros((2,2))"
      ],
      "execution_count": 16,
      "outputs": []
    },
    {
      "cell_type": "code",
      "metadata": {
        "colab": {
          "base_uri": "https://localhost:8080/"
        },
        "id": "GLaS5ImmsaFg",
        "outputId": "da4f3ee1-61f1-4c43-b865-63e2e79d1a9a"
      },
      "source": [
        "arr2"
      ],
      "execution_count": 17,
      "outputs": [
        {
          "output_type": "execute_result",
          "data": {
            "text/plain": [
              "array([[0., 0.],\n",
              "       [0., 0.]])"
            ]
          },
          "metadata": {
            "tags": []
          },
          "execution_count": 17
        }
      ]
    },
    {
      "cell_type": "code",
      "metadata": {
        "id": "-A8e137Bs9cl"
      },
      "source": [
        "arr3 = np.random.rand(10,10)"
      ],
      "execution_count": 25,
      "outputs": []
    },
    {
      "cell_type": "code",
      "metadata": {
        "colab": {
          "base_uri": "https://localhost:8080/"
        },
        "id": "GTONKVl3tDz_",
        "outputId": "28617d4a-d9cb-4b03-924b-4137595e87f9"
      },
      "source": [
        "arr3"
      ],
      "execution_count": 26,
      "outputs": [
        {
          "output_type": "execute_result",
          "data": {
            "text/plain": [
              "array([[0.28521324, 0.38312671, 0.84641486, 0.38031724, 0.65051233,\n",
              "        0.04774402, 0.41516577, 0.96679978, 0.50873261, 0.94292384],\n",
              "       [0.97872447, 0.07038602, 0.77336549, 0.98008953, 0.21629447,\n",
              "        0.56603689, 0.79680961, 0.08685101, 0.22412048, 0.63116954],\n",
              "       [0.70996362, 0.01434015, 0.51715221, 0.43538674, 0.16298547,\n",
              "        0.32474418, 0.80581889, 0.45654989, 0.63719176, 0.38436347],\n",
              "       [0.84731775, 0.79432767, 0.15625171, 0.68164991, 0.58395217,\n",
              "        0.18986048, 0.11458947, 0.55304757, 0.1580032 , 0.82778935],\n",
              "       [0.05325156, 0.63860876, 0.66315034, 0.04322639, 0.06762105,\n",
              "        0.96238941, 0.59469629, 0.65295856, 0.14582026, 0.8958818 ],\n",
              "       [0.39757452, 0.31864123, 0.03493861, 0.46638531, 0.46159496,\n",
              "        0.97841981, 0.76077314, 0.09885243, 0.69957406, 0.79762364],\n",
              "       [0.61557256, 0.33856352, 0.6256628 , 0.73388061, 0.9357171 ,\n",
              "        0.14600436, 0.56432942, 0.78442034, 0.49992517, 0.78191529],\n",
              "       [0.39916588, 0.10617403, 0.09916754, 0.99668454, 0.79312032,\n",
              "        0.52544178, 0.51438481, 0.29268473, 0.6026932 , 0.50492663],\n",
              "       [0.15664562, 0.80026958, 0.45692084, 0.78303638, 0.46360839,\n",
              "        0.00408069, 0.99990229, 0.36665196, 0.03502435, 0.29015213],\n",
              "       [0.22590706, 0.27958816, 0.45128466, 0.45390286, 0.78505615,\n",
              "        0.69996576, 0.82484822, 0.82370126, 0.19580642, 0.50381961]])"
            ]
          },
          "metadata": {
            "tags": []
          },
          "execution_count": 26
        }
      ]
    }
  ]
}