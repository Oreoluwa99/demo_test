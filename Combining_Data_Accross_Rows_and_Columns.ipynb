{
  "nbformat": 4,
  "nbformat_minor": 0,
  "metadata": {
    "colab": {
      "name": "Combining_Data_Accross_Rows_and_Columns.ipynb",
      "provenance": [],
      "authorship_tag": "ABX9TyPpa2RN0cmNlesb4BiNlrd1",
      "include_colab_link": true
    },
    "kernelspec": {
      "name": "python3",
      "display_name": "Python 3"
    },
    "language_info": {
      "name": "python"
    }
  },
  "cells": [
    {
      "cell_type": "markdown",
      "metadata": {
        "id": "view-in-github",
        "colab_type": "text"
      },
      "source": [
        "<a href=\"https://colab.research.google.com/github/Oreoluwa99/demo_test/blob/main/Combining_Data_Accross_Rows_and_Columns.ipynb\" target=\"_parent\"><img src=\"https://colab.research.google.com/assets/colab-badge.svg\" alt=\"Open In Colab\"/></a>"
      ]
    },
    {
      "cell_type": "code",
      "metadata": {
        "id": "7F7QtaAacSMr"
      },
      "source": [
        "import numpy as np\n",
        "import pandas as pd\n"
      ],
      "execution_count": 1,
      "outputs": []
    },
    {
      "cell_type": "code",
      "metadata": {
        "id": "4Un9zD5FcwEz"
      },
      "source": [
        "data_dict1 = {'name': ['Ibrahim Musa', 'Emeka Jude', 'Emmanuel Ayomide'],\n",
        "              'Age': [24,25,27],\n",
        "              'Sport': ['Football', 'Basketball', 'Volleyball']}"
      ],
      "execution_count": 2,
      "outputs": []
    },
    {
      "cell_type": "code",
      "metadata": {
        "colab": {
          "base_uri": "https://localhost:8080/"
        },
        "id": "IkePyDXedPkx",
        "outputId": "7e5dd7d1-6a46-4d79-d507-a4ac030f0f1b"
      },
      "source": [
        "data_dict1"
      ],
      "execution_count": 3,
      "outputs": [
        {
          "output_type": "execute_result",
          "data": {
            "text/plain": [
              "{'Age': [24, 25, 27],\n",
              " 'Sport': ['Football', 'Basketball', 'Volleyball'],\n",
              " 'name': ['Ibrahim Musa', 'Emeka Jude', 'Emmanuel Ayomide']}"
            ]
          },
          "metadata": {
            "tags": []
          },
          "execution_count": 3
        }
      ]
    },
    {
      "cell_type": "code",
      "metadata": {
        "id": "11X88A51djfC"
      },
      "source": [
        "data_dict2 = {'name': ['Nnamdi Ike', 'Emmanuel Ayomide', 'Ahmed Musa'],\n",
        "              'Age': [24, 27, 28],\n",
        "              'SPort': ['Football', 'Volleyball', 'Swimming']}"
      ],
      "execution_count": 4,
      "outputs": []
    },
    {
      "cell_type": "code",
      "metadata": {
        "id": "BI_e0JFGeQi2"
      },
      "source": [
        "df1 = pd.DataFrame(data_dict1, index=[0,1,2])"
      ],
      "execution_count": 10,
      "outputs": []
    },
    {
      "cell_type": "code",
      "metadata": {
        "colab": {
          "base_uri": "https://localhost:8080/",
          "height": 143
        },
        "id": "v94rkFCohOjE",
        "outputId": "51ea1152-2f32-4969-b53f-7637add1effa"
      },
      "source": [
        "df1"
      ],
      "execution_count": 11,
      "outputs": [
        {
          "output_type": "execute_result",
          "data": {
            "text/html": [
              "<div>\n",
              "<style scoped>\n",
              "    .dataframe tbody tr th:only-of-type {\n",
              "        vertical-align: middle;\n",
              "    }\n",
              "\n",
              "    .dataframe tbody tr th {\n",
              "        vertical-align: top;\n",
              "    }\n",
              "\n",
              "    .dataframe thead th {\n",
              "        text-align: right;\n",
              "    }\n",
              "</style>\n",
              "<table border=\"1\" class=\"dataframe\">\n",
              "  <thead>\n",
              "    <tr style=\"text-align: right;\">\n",
              "      <th></th>\n",
              "      <th>name</th>\n",
              "      <th>Age</th>\n",
              "      <th>Sport</th>\n",
              "    </tr>\n",
              "  </thead>\n",
              "  <tbody>\n",
              "    <tr>\n",
              "      <th>0</th>\n",
              "      <td>Ibrahim Musa</td>\n",
              "      <td>24</td>\n",
              "      <td>Football</td>\n",
              "    </tr>\n",
              "    <tr>\n",
              "      <th>1</th>\n",
              "      <td>Emeka Jude</td>\n",
              "      <td>25</td>\n",
              "      <td>Basketball</td>\n",
              "    </tr>\n",
              "    <tr>\n",
              "      <th>2</th>\n",
              "      <td>Emmanuel Ayomide</td>\n",
              "      <td>27</td>\n",
              "      <td>Volleyball</td>\n",
              "    </tr>\n",
              "  </tbody>\n",
              "</table>\n",
              "</div>"
            ],
            "text/plain": [
              "               name  Age       Sport\n",
              "0      Ibrahim Musa   24    Football\n",
              "1        Emeka Jude   25  Basketball\n",
              "2  Emmanuel Ayomide   27  Volleyball"
            ]
          },
          "metadata": {
            "tags": []
          },
          "execution_count": 11
        }
      ]
    },
    {
      "cell_type": "code",
      "metadata": {
        "id": "u-Qd9rQwhduS"
      },
      "source": [
        "df2 = pd.DataFrame(data_dict2, index=[3,2,5])"
      ],
      "execution_count": 13,
      "outputs": []
    },
    {
      "cell_type": "code",
      "metadata": {
        "colab": {
          "base_uri": "https://localhost:8080/",
          "height": 143
        },
        "id": "29QQdvHAhuhj",
        "outputId": "687982fa-6b72-4931-f7ac-82b16bfd5f92"
      },
      "source": [
        "df2"
      ],
      "execution_count": 14,
      "outputs": [
        {
          "output_type": "execute_result",
          "data": {
            "text/html": [
              "<div>\n",
              "<style scoped>\n",
              "    .dataframe tbody tr th:only-of-type {\n",
              "        vertical-align: middle;\n",
              "    }\n",
              "\n",
              "    .dataframe tbody tr th {\n",
              "        vertical-align: top;\n",
              "    }\n",
              "\n",
              "    .dataframe thead th {\n",
              "        text-align: right;\n",
              "    }\n",
              "</style>\n",
              "<table border=\"1\" class=\"dataframe\">\n",
              "  <thead>\n",
              "    <tr style=\"text-align: right;\">\n",
              "      <th></th>\n",
              "      <th>name</th>\n",
              "      <th>Age</th>\n",
              "      <th>SPort</th>\n",
              "    </tr>\n",
              "  </thead>\n",
              "  <tbody>\n",
              "    <tr>\n",
              "      <th>3</th>\n",
              "      <td>Nnamdi Ike</td>\n",
              "      <td>24</td>\n",
              "      <td>Football</td>\n",
              "    </tr>\n",
              "    <tr>\n",
              "      <th>2</th>\n",
              "      <td>Emmanuel Ayomide</td>\n",
              "      <td>27</td>\n",
              "      <td>Volleyball</td>\n",
              "    </tr>\n",
              "    <tr>\n",
              "      <th>5</th>\n",
              "      <td>Ahmed Musa</td>\n",
              "      <td>28</td>\n",
              "      <td>Swimming</td>\n",
              "    </tr>\n",
              "  </tbody>\n",
              "</table>\n",
              "</div>"
            ],
            "text/plain": [
              "               name  Age       SPort\n",
              "3        Nnamdi Ike   24    Football\n",
              "2  Emmanuel Ayomide   27  Volleyball\n",
              "5        Ahmed Musa   28    Swimming"
            ]
          },
          "metadata": {
            "tags": []
          },
          "execution_count": 14
        }
      ]
    },
    {
      "cell_type": "code",
      "metadata": {
        "colab": {
          "base_uri": "https://localhost:8080/",
          "height": 238
        },
        "id": "w4iZld_Ch_QZ",
        "outputId": "918e5b53-aa73-4460-ba0f-6716fada973e"
      },
      "source": [
        "pd.concat([df1, df2])"
      ],
      "execution_count": 15,
      "outputs": [
        {
          "output_type": "execute_result",
          "data": {
            "text/html": [
              "<div>\n",
              "<style scoped>\n",
              "    .dataframe tbody tr th:only-of-type {\n",
              "        vertical-align: middle;\n",
              "    }\n",
              "\n",
              "    .dataframe tbody tr th {\n",
              "        vertical-align: top;\n",
              "    }\n",
              "\n",
              "    .dataframe thead th {\n",
              "        text-align: right;\n",
              "    }\n",
              "</style>\n",
              "<table border=\"1\" class=\"dataframe\">\n",
              "  <thead>\n",
              "    <tr style=\"text-align: right;\">\n",
              "      <th></th>\n",
              "      <th>name</th>\n",
              "      <th>Age</th>\n",
              "      <th>Sport</th>\n",
              "      <th>SPort</th>\n",
              "    </tr>\n",
              "  </thead>\n",
              "  <tbody>\n",
              "    <tr>\n",
              "      <th>0</th>\n",
              "      <td>Ibrahim Musa</td>\n",
              "      <td>24</td>\n",
              "      <td>Football</td>\n",
              "      <td>NaN</td>\n",
              "    </tr>\n",
              "    <tr>\n",
              "      <th>1</th>\n",
              "      <td>Emeka Jude</td>\n",
              "      <td>25</td>\n",
              "      <td>Basketball</td>\n",
              "      <td>NaN</td>\n",
              "    </tr>\n",
              "    <tr>\n",
              "      <th>2</th>\n",
              "      <td>Emmanuel Ayomide</td>\n",
              "      <td>27</td>\n",
              "      <td>Volleyball</td>\n",
              "      <td>NaN</td>\n",
              "    </tr>\n",
              "    <tr>\n",
              "      <th>3</th>\n",
              "      <td>Nnamdi Ike</td>\n",
              "      <td>24</td>\n",
              "      <td>NaN</td>\n",
              "      <td>Football</td>\n",
              "    </tr>\n",
              "    <tr>\n",
              "      <th>2</th>\n",
              "      <td>Emmanuel Ayomide</td>\n",
              "      <td>27</td>\n",
              "      <td>NaN</td>\n",
              "      <td>Volleyball</td>\n",
              "    </tr>\n",
              "    <tr>\n",
              "      <th>5</th>\n",
              "      <td>Ahmed Musa</td>\n",
              "      <td>28</td>\n",
              "      <td>NaN</td>\n",
              "      <td>Swimming</td>\n",
              "    </tr>\n",
              "  </tbody>\n",
              "</table>\n",
              "</div>"
            ],
            "text/plain": [
              "               name  Age       Sport       SPort\n",
              "0      Ibrahim Musa   24    Football         NaN\n",
              "1        Emeka Jude   25  Basketball         NaN\n",
              "2  Emmanuel Ayomide   27  Volleyball         NaN\n",
              "3        Nnamdi Ike   24         NaN    Football\n",
              "2  Emmanuel Ayomide   27         NaN  Volleyball\n",
              "5        Ahmed Musa   28         NaN    Swimming"
            ]
          },
          "metadata": {
            "tags": []
          },
          "execution_count": 15
        }
      ]
    },
    {
      "cell_type": "code",
      "metadata": {
        "colab": {
          "base_uri": "https://localhost:8080/",
          "height": 238
        },
        "id": "DaYkXxH6iZI5",
        "outputId": "88a21e61-43e4-4a92-81f2-842ea1471cc8"
      },
      "source": [
        "df1.append(df2)"
      ],
      "execution_count": 16,
      "outputs": [
        {
          "output_type": "execute_result",
          "data": {
            "text/html": [
              "<div>\n",
              "<style scoped>\n",
              "    .dataframe tbody tr th:only-of-type {\n",
              "        vertical-align: middle;\n",
              "    }\n",
              "\n",
              "    .dataframe tbody tr th {\n",
              "        vertical-align: top;\n",
              "    }\n",
              "\n",
              "    .dataframe thead th {\n",
              "        text-align: right;\n",
              "    }\n",
              "</style>\n",
              "<table border=\"1\" class=\"dataframe\">\n",
              "  <thead>\n",
              "    <tr style=\"text-align: right;\">\n",
              "      <th></th>\n",
              "      <th>name</th>\n",
              "      <th>Age</th>\n",
              "      <th>Sport</th>\n",
              "      <th>SPort</th>\n",
              "    </tr>\n",
              "  </thead>\n",
              "  <tbody>\n",
              "    <tr>\n",
              "      <th>0</th>\n",
              "      <td>Ibrahim Musa</td>\n",
              "      <td>24</td>\n",
              "      <td>Football</td>\n",
              "      <td>NaN</td>\n",
              "    </tr>\n",
              "    <tr>\n",
              "      <th>1</th>\n",
              "      <td>Emeka Jude</td>\n",
              "      <td>25</td>\n",
              "      <td>Basketball</td>\n",
              "      <td>NaN</td>\n",
              "    </tr>\n",
              "    <tr>\n",
              "      <th>2</th>\n",
              "      <td>Emmanuel Ayomide</td>\n",
              "      <td>27</td>\n",
              "      <td>Volleyball</td>\n",
              "      <td>NaN</td>\n",
              "    </tr>\n",
              "    <tr>\n",
              "      <th>3</th>\n",
              "      <td>Nnamdi Ike</td>\n",
              "      <td>24</td>\n",
              "      <td>NaN</td>\n",
              "      <td>Football</td>\n",
              "    </tr>\n",
              "    <tr>\n",
              "      <th>2</th>\n",
              "      <td>Emmanuel Ayomide</td>\n",
              "      <td>27</td>\n",
              "      <td>NaN</td>\n",
              "      <td>Volleyball</td>\n",
              "    </tr>\n",
              "    <tr>\n",
              "      <th>5</th>\n",
              "      <td>Ahmed Musa</td>\n",
              "      <td>28</td>\n",
              "      <td>NaN</td>\n",
              "      <td>Swimming</td>\n",
              "    </tr>\n",
              "  </tbody>\n",
              "</table>\n",
              "</div>"
            ],
            "text/plain": [
              "               name  Age       Sport       SPort\n",
              "0      Ibrahim Musa   24    Football         NaN\n",
              "1        Emeka Jude   25  Basketball         NaN\n",
              "2  Emmanuel Ayomide   27  Volleyball         NaN\n",
              "3        Nnamdi Ike   24         NaN    Football\n",
              "2  Emmanuel Ayomide   27         NaN  Volleyball\n",
              "5        Ahmed Musa   28         NaN    Swimming"
            ]
          },
          "metadata": {
            "tags": []
          },
          "execution_count": 16
        }
      ]
    },
    {
      "cell_type": "code",
      "metadata": {
        "colab": {
          "base_uri": "https://localhost:8080/",
          "height": 206
        },
        "id": "Z2G9z2LBi9UC",
        "outputId": "6f68fa23-52e5-4217-9d3e-b0254e6e9698"
      },
      "source": [
        "pd.concat([df1, df2], axis=1)"
      ],
      "execution_count": 24,
      "outputs": [
        {
          "output_type": "execute_result",
          "data": {
            "text/html": [
              "<div>\n",
              "<style scoped>\n",
              "    .dataframe tbody tr th:only-of-type {\n",
              "        vertical-align: middle;\n",
              "    }\n",
              "\n",
              "    .dataframe tbody tr th {\n",
              "        vertical-align: top;\n",
              "    }\n",
              "\n",
              "    .dataframe thead th {\n",
              "        text-align: right;\n",
              "    }\n",
              "</style>\n",
              "<table border=\"1\" class=\"dataframe\">\n",
              "  <thead>\n",
              "    <tr style=\"text-align: right;\">\n",
              "      <th></th>\n",
              "      <th>name</th>\n",
              "      <th>Age</th>\n",
              "      <th>Sport</th>\n",
              "      <th>name</th>\n",
              "      <th>Age</th>\n",
              "      <th>SPort</th>\n",
              "    </tr>\n",
              "  </thead>\n",
              "  <tbody>\n",
              "    <tr>\n",
              "      <th>0</th>\n",
              "      <td>Ibrahim Musa</td>\n",
              "      <td>24.0</td>\n",
              "      <td>Football</td>\n",
              "      <td>NaN</td>\n",
              "      <td>NaN</td>\n",
              "      <td>NaN</td>\n",
              "    </tr>\n",
              "    <tr>\n",
              "      <th>1</th>\n",
              "      <td>Emeka Jude</td>\n",
              "      <td>25.0</td>\n",
              "      <td>Basketball</td>\n",
              "      <td>NaN</td>\n",
              "      <td>NaN</td>\n",
              "      <td>NaN</td>\n",
              "    </tr>\n",
              "    <tr>\n",
              "      <th>2</th>\n",
              "      <td>Emmanuel Ayomide</td>\n",
              "      <td>27.0</td>\n",
              "      <td>Volleyball</td>\n",
              "      <td>Emmanuel Ayomide</td>\n",
              "      <td>27.0</td>\n",
              "      <td>Volleyball</td>\n",
              "    </tr>\n",
              "    <tr>\n",
              "      <th>3</th>\n",
              "      <td>NaN</td>\n",
              "      <td>NaN</td>\n",
              "      <td>NaN</td>\n",
              "      <td>Nnamdi Ike</td>\n",
              "      <td>24.0</td>\n",
              "      <td>Football</td>\n",
              "    </tr>\n",
              "    <tr>\n",
              "      <th>5</th>\n",
              "      <td>NaN</td>\n",
              "      <td>NaN</td>\n",
              "      <td>NaN</td>\n",
              "      <td>Ahmed Musa</td>\n",
              "      <td>28.0</td>\n",
              "      <td>Swimming</td>\n",
              "    </tr>\n",
              "  </tbody>\n",
              "</table>\n",
              "</div>"
            ],
            "text/plain": [
              "               name   Age       Sport              name   Age       SPort\n",
              "0      Ibrahim Musa  24.0    Football               NaN   NaN         NaN\n",
              "1        Emeka Jude  25.0  Basketball               NaN   NaN         NaN\n",
              "2  Emmanuel Ayomide  27.0  Volleyball  Emmanuel Ayomide  27.0  Volleyball\n",
              "3               NaN   NaN         NaN        Nnamdi Ike  24.0    Football\n",
              "5               NaN   NaN         NaN        Ahmed Musa  28.0    Swimming"
            ]
          },
          "metadata": {
            "tags": []
          },
          "execution_count": 24
        }
      ]
    },
    {
      "cell_type": "code",
      "metadata": {
        "colab": {
          "base_uri": "https://localhost:8080/",
          "height": 206
        },
        "id": "GnvBHES0jpo8",
        "outputId": "ed19486e-79e5-4ab7-a2d7-19247a8dabae"
      },
      "source": [
        "pd.concat([df1, df2], axis=1, join='outer')"
      ],
      "execution_count": 25,
      "outputs": [
        {
          "output_type": "execute_result",
          "data": {
            "text/html": [
              "<div>\n",
              "<style scoped>\n",
              "    .dataframe tbody tr th:only-of-type {\n",
              "        vertical-align: middle;\n",
              "    }\n",
              "\n",
              "    .dataframe tbody tr th {\n",
              "        vertical-align: top;\n",
              "    }\n",
              "\n",
              "    .dataframe thead th {\n",
              "        text-align: right;\n",
              "    }\n",
              "</style>\n",
              "<table border=\"1\" class=\"dataframe\">\n",
              "  <thead>\n",
              "    <tr style=\"text-align: right;\">\n",
              "      <th></th>\n",
              "      <th>name</th>\n",
              "      <th>Age</th>\n",
              "      <th>Sport</th>\n",
              "      <th>name</th>\n",
              "      <th>Age</th>\n",
              "      <th>SPort</th>\n",
              "    </tr>\n",
              "  </thead>\n",
              "  <tbody>\n",
              "    <tr>\n",
              "      <th>0</th>\n",
              "      <td>Ibrahim Musa</td>\n",
              "      <td>24.0</td>\n",
              "      <td>Football</td>\n",
              "      <td>NaN</td>\n",
              "      <td>NaN</td>\n",
              "      <td>NaN</td>\n",
              "    </tr>\n",
              "    <tr>\n",
              "      <th>1</th>\n",
              "      <td>Emeka Jude</td>\n",
              "      <td>25.0</td>\n",
              "      <td>Basketball</td>\n",
              "      <td>NaN</td>\n",
              "      <td>NaN</td>\n",
              "      <td>NaN</td>\n",
              "    </tr>\n",
              "    <tr>\n",
              "      <th>2</th>\n",
              "      <td>Emmanuel Ayomide</td>\n",
              "      <td>27.0</td>\n",
              "      <td>Volleyball</td>\n",
              "      <td>Emmanuel Ayomide</td>\n",
              "      <td>27.0</td>\n",
              "      <td>Volleyball</td>\n",
              "    </tr>\n",
              "    <tr>\n",
              "      <th>3</th>\n",
              "      <td>NaN</td>\n",
              "      <td>NaN</td>\n",
              "      <td>NaN</td>\n",
              "      <td>Nnamdi Ike</td>\n",
              "      <td>24.0</td>\n",
              "      <td>Football</td>\n",
              "    </tr>\n",
              "    <tr>\n",
              "      <th>5</th>\n",
              "      <td>NaN</td>\n",
              "      <td>NaN</td>\n",
              "      <td>NaN</td>\n",
              "      <td>Ahmed Musa</td>\n",
              "      <td>28.0</td>\n",
              "      <td>Swimming</td>\n",
              "    </tr>\n",
              "  </tbody>\n",
              "</table>\n",
              "</div>"
            ],
            "text/plain": [
              "               name   Age       Sport              name   Age       SPort\n",
              "0      Ibrahim Musa  24.0    Football               NaN   NaN         NaN\n",
              "1        Emeka Jude  25.0  Basketball               NaN   NaN         NaN\n",
              "2  Emmanuel Ayomide  27.0  Volleyball  Emmanuel Ayomide  27.0  Volleyball\n",
              "3               NaN   NaN         NaN        Nnamdi Ike  24.0    Football\n",
              "5               NaN   NaN         NaN        Ahmed Musa  28.0    Swimming"
            ]
          },
          "metadata": {
            "tags": []
          },
          "execution_count": 25
        }
      ]
    },
    {
      "cell_type": "code",
      "metadata": {
        "colab": {
          "base_uri": "https://localhost:8080/",
          "height": 81
        },
        "id": "g7BpreLOjwRS",
        "outputId": "14ccb072-46f3-485c-a3db-3b2645ffadc4"
      },
      "source": [
        "pd.concat([df1, df2], axis=1, join='inner')"
      ],
      "execution_count": 26,
      "outputs": [
        {
          "output_type": "execute_result",
          "data": {
            "text/html": [
              "<div>\n",
              "<style scoped>\n",
              "    .dataframe tbody tr th:only-of-type {\n",
              "        vertical-align: middle;\n",
              "    }\n",
              "\n",
              "    .dataframe tbody tr th {\n",
              "        vertical-align: top;\n",
              "    }\n",
              "\n",
              "    .dataframe thead th {\n",
              "        text-align: right;\n",
              "    }\n",
              "</style>\n",
              "<table border=\"1\" class=\"dataframe\">\n",
              "  <thead>\n",
              "    <tr style=\"text-align: right;\">\n",
              "      <th></th>\n",
              "      <th>name</th>\n",
              "      <th>Age</th>\n",
              "      <th>Sport</th>\n",
              "      <th>name</th>\n",
              "      <th>Age</th>\n",
              "      <th>SPort</th>\n",
              "    </tr>\n",
              "  </thead>\n",
              "  <tbody>\n",
              "    <tr>\n",
              "      <th>2</th>\n",
              "      <td>Emmanuel Ayomide</td>\n",
              "      <td>27</td>\n",
              "      <td>Volleyball</td>\n",
              "      <td>Emmanuel Ayomide</td>\n",
              "      <td>27</td>\n",
              "      <td>Volleyball</td>\n",
              "    </tr>\n",
              "  </tbody>\n",
              "</table>\n",
              "</div>"
            ],
            "text/plain": [
              "               name  Age       Sport              name  Age       SPort\n",
              "2  Emmanuel Ayomide   27  Volleyball  Emmanuel Ayomide   27  Volleyball"
            ]
          },
          "metadata": {
            "tags": []
          },
          "execution_count": 26
        }
      ]
    },
    {
      "cell_type": "code",
      "metadata": {
        "id": "VwhNxy_IkxrS"
      },
      "source": [
        "#This uses group keys to separate the tables together\n",
        "dff = pd.concat([df1, df2], keys=['X', 'Y'])"
      ],
      "execution_count": 28,
      "outputs": []
    },
    {
      "cell_type": "code",
      "metadata": {
        "colab": {
          "base_uri": "https://localhost:8080/",
          "height": 238
        },
        "id": "zWoO9_uRlyaJ",
        "outputId": "06748426-adad-4d6b-ba34-ce68c26269b7"
      },
      "source": [
        "dff"
      ],
      "execution_count": 29,
      "outputs": [
        {
          "output_type": "execute_result",
          "data": {
            "text/html": [
              "<div>\n",
              "<style scoped>\n",
              "    .dataframe tbody tr th:only-of-type {\n",
              "        vertical-align: middle;\n",
              "    }\n",
              "\n",
              "    .dataframe tbody tr th {\n",
              "        vertical-align: top;\n",
              "    }\n",
              "\n",
              "    .dataframe thead th {\n",
              "        text-align: right;\n",
              "    }\n",
              "</style>\n",
              "<table border=\"1\" class=\"dataframe\">\n",
              "  <thead>\n",
              "    <tr style=\"text-align: right;\">\n",
              "      <th></th>\n",
              "      <th></th>\n",
              "      <th>name</th>\n",
              "      <th>Age</th>\n",
              "      <th>Sport</th>\n",
              "      <th>SPort</th>\n",
              "    </tr>\n",
              "  </thead>\n",
              "  <tbody>\n",
              "    <tr>\n",
              "      <th rowspan=\"3\" valign=\"top\">X</th>\n",
              "      <th>0</th>\n",
              "      <td>Ibrahim Musa</td>\n",
              "      <td>24</td>\n",
              "      <td>Football</td>\n",
              "      <td>NaN</td>\n",
              "    </tr>\n",
              "    <tr>\n",
              "      <th>1</th>\n",
              "      <td>Emeka Jude</td>\n",
              "      <td>25</td>\n",
              "      <td>Basketball</td>\n",
              "      <td>NaN</td>\n",
              "    </tr>\n",
              "    <tr>\n",
              "      <th>2</th>\n",
              "      <td>Emmanuel Ayomide</td>\n",
              "      <td>27</td>\n",
              "      <td>Volleyball</td>\n",
              "      <td>NaN</td>\n",
              "    </tr>\n",
              "    <tr>\n",
              "      <th rowspan=\"3\" valign=\"top\">Y</th>\n",
              "      <th>3</th>\n",
              "      <td>Nnamdi Ike</td>\n",
              "      <td>24</td>\n",
              "      <td>NaN</td>\n",
              "      <td>Football</td>\n",
              "    </tr>\n",
              "    <tr>\n",
              "      <th>2</th>\n",
              "      <td>Emmanuel Ayomide</td>\n",
              "      <td>27</td>\n",
              "      <td>NaN</td>\n",
              "      <td>Volleyball</td>\n",
              "    </tr>\n",
              "    <tr>\n",
              "      <th>5</th>\n",
              "      <td>Ahmed Musa</td>\n",
              "      <td>28</td>\n",
              "      <td>NaN</td>\n",
              "      <td>Swimming</td>\n",
              "    </tr>\n",
              "  </tbody>\n",
              "</table>\n",
              "</div>"
            ],
            "text/plain": [
              "                 name  Age       Sport       SPort\n",
              "X 0      Ibrahim Musa   24    Football         NaN\n",
              "  1        Emeka Jude   25  Basketball         NaN\n",
              "  2  Emmanuel Ayomide   27  Volleyball         NaN\n",
              "Y 3        Nnamdi Ike   24         NaN    Football\n",
              "  2  Emmanuel Ayomide   27         NaN  Volleyball\n",
              "  5        Ahmed Musa   28         NaN    Swimming"
            ]
          },
          "metadata": {
            "tags": []
          },
          "execution_count": 29
        }
      ]
    },
    {
      "cell_type": "code",
      "metadata": {
        "colab": {
          "base_uri": "https://localhost:8080/",
          "height": 143
        },
        "id": "_yZ6FKLEl0gd",
        "outputId": "516f199b-2d3c-46b6-f0e7-047055bb1718"
      },
      "source": [
        "dff.loc['X']"
      ],
      "execution_count": 31,
      "outputs": [
        {
          "output_type": "execute_result",
          "data": {
            "text/html": [
              "<div>\n",
              "<style scoped>\n",
              "    .dataframe tbody tr th:only-of-type {\n",
              "        vertical-align: middle;\n",
              "    }\n",
              "\n",
              "    .dataframe tbody tr th {\n",
              "        vertical-align: top;\n",
              "    }\n",
              "\n",
              "    .dataframe thead th {\n",
              "        text-align: right;\n",
              "    }\n",
              "</style>\n",
              "<table border=\"1\" class=\"dataframe\">\n",
              "  <thead>\n",
              "    <tr style=\"text-align: right;\">\n",
              "      <th></th>\n",
              "      <th>name</th>\n",
              "      <th>Age</th>\n",
              "      <th>Sport</th>\n",
              "      <th>SPort</th>\n",
              "    </tr>\n",
              "  </thead>\n",
              "  <tbody>\n",
              "    <tr>\n",
              "      <th>0</th>\n",
              "      <td>Ibrahim Musa</td>\n",
              "      <td>24</td>\n",
              "      <td>Football</td>\n",
              "      <td>NaN</td>\n",
              "    </tr>\n",
              "    <tr>\n",
              "      <th>1</th>\n",
              "      <td>Emeka Jude</td>\n",
              "      <td>25</td>\n",
              "      <td>Basketball</td>\n",
              "      <td>NaN</td>\n",
              "    </tr>\n",
              "    <tr>\n",
              "      <th>2</th>\n",
              "      <td>Emmanuel Ayomide</td>\n",
              "      <td>27</td>\n",
              "      <td>Volleyball</td>\n",
              "      <td>NaN</td>\n",
              "    </tr>\n",
              "  </tbody>\n",
              "</table>\n",
              "</div>"
            ],
            "text/plain": [
              "               name  Age       Sport SPort\n",
              "0      Ibrahim Musa   24    Football   NaN\n",
              "1        Emeka Jude   25  Basketball   NaN\n",
              "2  Emmanuel Ayomide   27  Volleyball   NaN"
            ]
          },
          "metadata": {
            "tags": []
          },
          "execution_count": 31
        }
      ]
    },
    {
      "cell_type": "code",
      "metadata": {
        "colab": {
          "base_uri": "https://localhost:8080/",
          "height": 143
        },
        "id": "9qpZfCkumE_I",
        "outputId": "87b578a2-1574-42e1-9c1d-4f491aec92d4"
      },
      "source": [
        "dff.loc['Y']"
      ],
      "execution_count": 32,
      "outputs": [
        {
          "output_type": "execute_result",
          "data": {
            "text/html": [
              "<div>\n",
              "<style scoped>\n",
              "    .dataframe tbody tr th:only-of-type {\n",
              "        vertical-align: middle;\n",
              "    }\n",
              "\n",
              "    .dataframe tbody tr th {\n",
              "        vertical-align: top;\n",
              "    }\n",
              "\n",
              "    .dataframe thead th {\n",
              "        text-align: right;\n",
              "    }\n",
              "</style>\n",
              "<table border=\"1\" class=\"dataframe\">\n",
              "  <thead>\n",
              "    <tr style=\"text-align: right;\">\n",
              "      <th></th>\n",
              "      <th>name</th>\n",
              "      <th>Age</th>\n",
              "      <th>Sport</th>\n",
              "      <th>SPort</th>\n",
              "    </tr>\n",
              "  </thead>\n",
              "  <tbody>\n",
              "    <tr>\n",
              "      <th>3</th>\n",
              "      <td>Nnamdi Ike</td>\n",
              "      <td>24</td>\n",
              "      <td>NaN</td>\n",
              "      <td>Football</td>\n",
              "    </tr>\n",
              "    <tr>\n",
              "      <th>2</th>\n",
              "      <td>Emmanuel Ayomide</td>\n",
              "      <td>27</td>\n",
              "      <td>NaN</td>\n",
              "      <td>Volleyball</td>\n",
              "    </tr>\n",
              "    <tr>\n",
              "      <th>5</th>\n",
              "      <td>Ahmed Musa</td>\n",
              "      <td>28</td>\n",
              "      <td>NaN</td>\n",
              "      <td>Swimming</td>\n",
              "    </tr>\n",
              "  </tbody>\n",
              "</table>\n",
              "</div>"
            ],
            "text/plain": [
              "               name  Age Sport       SPort\n",
              "3        Nnamdi Ike   24   NaN    Football\n",
              "2  Emmanuel Ayomide   27   NaN  Volleyball\n",
              "5        Ahmed Musa   28   NaN    Swimming"
            ]
          },
          "metadata": {
            "tags": []
          },
          "execution_count": 32
        }
      ]
    },
    {
      "cell_type": "markdown",
      "metadata": {
        "id": "ErziLucetl_l"
      },
      "source": [
        "Combining Data on a Common Index\n",
        "\n",
        "\n",
        "\n"
      ]
    },
    {
      "cell_type": "code",
      "metadata": {
        "id": "2h2nJtmxtwdz"
      },
      "source": [
        ""
      ],
      "execution_count": null,
      "outputs": []
    },
    {
      "cell_type": "code",
      "metadata": {
        "id": "JKcbONJMttYZ"
      },
      "source": [
        ""
      ],
      "execution_count": null,
      "outputs": []
    },
    {
      "cell_type": "code",
      "metadata": {
        "id": "tUDVL78TjEG0"
      },
      "source": [
        ""
      ],
      "execution_count": null,
      "outputs": []
    }
  ]
}